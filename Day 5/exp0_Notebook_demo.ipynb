{
 "cells": [
  {
   "cell_type": "code",
   "execution_count": 0,
   "metadata": {
    "application/vnd.databricks.v1+cell": {
     "cellMetadata": {
      "byteLimit": 2048000,
      "rowLimit": 10000
     },
     "inputWidgets": {},
     "nuid": "8dccb096-b130-4eb5-84f5-e3bf0220298b",
     "showTitle": false,
     "tableResultSettingsMap": {},
     "title": ""
    }
   },
   "outputs": [],
   "source": [
    "display(spark.read.table(\"samples.nyctaxi.trips\"))"
   ]
  },
  {
   "cell_type": "code",
   "execution_count": 0,
   "metadata": {
    "application/vnd.databricks.v1+cell": {
     "cellMetadata": {
      "byteLimit": 2048000,
      "rowLimit": 10000
     },
     "inputWidgets": {},
     "nuid": "8505521f-8c77-41fc-9c7b-0632e70616df",
     "showTitle": false,
     "tableResultSettingsMap": {},
     "title": ""
    }
   },
   "outputs": [
    {
     "output_type": "display_data",
     "data": {
      "text/html": [
       "<style scoped>\n",
       "  .table-result-container {\n",
       "    max-height: 300px;\n",
       "    overflow: auto;\n",
       "  }\n",
       "  table, th, td {\n",
       "    border: 1px solid black;\n",
       "    border-collapse: collapse;\n",
       "  }\n",
       "  th, td {\n",
       "    padding: 5px;\n",
       "  }\n",
       "  th {\n",
       "    text-align: left;\n",
       "  }\n",
       "</style><div class='table-result-container'><table class='table-result'><thead style='background-color: white'><tr><th>ID</th><th>Car</th></tr></thead><tbody><tr><td>1</td><td>VW</td></tr><tr><td>2</td><td>BMW</td></tr></tbody></table></div>"
      ]
     },
     "metadata": {
      "application/vnd.databricks.v1+output": {
       "addedWidgets": {},
       "aggData": [],
       "aggError": "",
       "aggOverflow": false,
       "aggSchema": [],
       "aggSeriesLimitReached": false,
       "aggType": "",
       "arguments": {},
       "columnCustomDisplayInfos": {},
       "data": [
        [
         1,
         "VW"
        ],
        [
         2,
         "BMW"
        ]
       ],
       "datasetInfos": [],
       "dbfsResultPath": null,
       "isJsonSchema": true,
       "metadata": {},
       "overflow": false,
       "plotOptions": {
        "customPlotOptions": {},
        "displayType": "table",
        "pivotAggregation": null,
        "pivotColumns": null,
        "xColumns": null,
        "yColumns": null
       },
       "removedWidgets": [],
       "schema": [
        {
         "metadata": "{}",
         "name": "ID",
         "type": "\"long\""
        },
        {
         "metadata": "{}",
         "name": "Car",
         "type": "\"string\""
        }
       ],
       "type": "table"
      }
     },
     "output_type": "display_data"
    }
   ],
   "source": [
    "data = [[1, \"VW\"],  \n",
    "        [2, \"BMW\"]] \n",
    "\n",
    "columns = [\"ID\", \"Car\"] \n",
    "\n",
    "dataframe = spark.createDataFrame(data, columns) \n",
    "  \n",
    "# show data frame \n",
    "display(dataframe)"
   ]
  },
  {
   "cell_type": "code",
   "execution_count": 0,
   "metadata": {
    "application/vnd.databricks.v1+cell": {
     "cellMetadata": {
      "byteLimit": 2048000,
      "rowLimit": 10000
     },
     "inputWidgets": {},
     "nuid": "18ed4b60-9e33-46b0-a1fa-9456d7cf855f",
     "showTitle": false,
     "tableResultSettingsMap": {},
     "title": ""
    }
   },
   "outputs": [],
   "source": [
    "data = [\n",
    "[1,\"Alicia Kaiser\",\"WA\",\"001-677-774-4370\",\"13714\",\"Stacy Summit\",\"54799\",\"Lake Joseborough\",\"Delaware\",\"1939-04-07\",\"2656508165701512\", \"1000.00\"],\n",
    "[2,\"Donna Ellis\",\"BR\",\"001-631-995-8008\",\"43599\",\"Adam Trail\",\"07204\",\"Port April\",\"Montana\",\"1966-07-28\",\"5527331190171381\",  \"1000.00\"],\n",
    "[3,\"Kenneth Smith\",\"WA\",\"001-592-849-6009x4173\",\"649\",\"Sherri Grove\",\"14527\",\"North Miranda\",\"Washington\",\"1998-09-25\",\"5366314062583069\",  \"1000.00\"],\n",
    "[4,\"Danny Clark\",\"WA\",\"574.419.0221x348\",\"285\",\"Timothy Drive\",\"41106\",\"West Erica\",\"Maryland\",\"1948-08-29\",\"5488489084734990\",  \"2000.00\"],\n",
    "[5,\"Nicholas Thompson\",\"CA\",\"(259)268-8760x061\",\"998\",\"Russell Shoals\",\"65647\",\"South Todd\",\"South Carolina\",\"1985-03-08\",\"2720282150775392\", \"3000.00\"],\n",
    "[6,\"Frances Griffith\",\"WA\",\"7535316823\",\"9559\",\"Emily Branch\",\"71422\",\"Mcdanielhaven\",\"New York\",\"1984-07-12\",\"2248334835679706\", \"4000.00\"],\n",
    "[7,\"Trevor Harrington\",\"CA\",\"742.224.9375\",\"5960\",\"Lisa Port\",\"73881\",\"Loganbury\",\"New York\",\"1979-03-10\",\"5130498353342015\", \"2000.00\"],\n",
    "[8,\"Seth Mitchell\",\"AA\",\"(386)517-7589x04440\",\"47352\",\"Stafford Loop\",\"01347\",\"South Alexander\",\"North Dakota\",\"1944-07-03\",\"2280935548220544\", \"3000.00\"],\n",
    "[9,\"Patrick Caldwell\",\"BR\",\"001-307-225-9094\",\"0170\",\"Amanda Dam\",\"24885\",\"Port Mollyhaven\",\"Connecticut\",\"1973-05-04\",\"5557276831443314\", \"2000.00\"],\n",
    "[10,\"Laura Hopkins\",\"CA\",\"9095819755\",\"143\",\"Lee Brook\",\"23623\",\"Jarvisland\",\"Hawaii\",\"1971-11-13\",\"2720224762678291\", \"100.00\"]\n",
    "]\n",
    "schama = \"client_number int,name string,branch string,phone_number string,bulding_number string,street_name string,postcode string,city string,state string,birth_date string,credit_card_number string, amout string\"\n",
    "df = spark.createDataFrame(data, schama)"
   ]
  },
  {
   "cell_type": "code",
   "execution_count": 0,
   "metadata": {
    "application/vnd.databricks.v1+cell": {
     "cellMetadata": {
      "byteLimit": 2048000,
      "rowLimit": 10000
     },
     "inputWidgets": {},
     "nuid": "1e9f950e-aee1-43d3-bb97-e26991b79ebe",
     "showTitle": false,
     "tableResultSettingsMap": {},
     "title": ""
    }
   },
   "outputs": [
    {
     "output_type": "display_data",
     "data": {
      "text/html": [
       "<style scoped>\n",
       "  .table-result-container {\n",
       "    max-height: 300px;\n",
       "    overflow: auto;\n",
       "  }\n",
       "  table, th, td {\n",
       "    border: 1px solid black;\n",
       "    border-collapse: collapse;\n",
       "  }\n",
       "  th, td {\n",
       "    padding: 5px;\n",
       "  }\n",
       "  th {\n",
       "    text-align: left;\n",
       "  }\n",
       "</style><div class='table-result-container'><table class='table-result'><thead style='background-color: white'><tr><th>client_number</th><th>name</th><th>amout</th></tr></thead><tbody><tr><td>1</td><td>Alicia Kaiser</td><td>1000.00</td></tr><tr><td>2</td><td>Donna Ellis</td><td>1000.00</td></tr><tr><td>3</td><td>Kenneth Smith</td><td>1000.00</td></tr><tr><td>4</td><td>Danny Clark</td><td>2000.00</td></tr><tr><td>5</td><td>Nicholas Thompson</td><td>3000.00</td></tr><tr><td>6</td><td>Frances Griffith</td><td>4000.00</td></tr><tr><td>7</td><td>Trevor Harrington</td><td>2000.00</td></tr><tr><td>8</td><td>Seth Mitchell</td><td>3000.00</td></tr><tr><td>9</td><td>Patrick Caldwell</td><td>2000.00</td></tr><tr><td>10</td><td>Laura Hopkins</td><td>100.00</td></tr></tbody></table></div>"
      ]
     },
     "metadata": {
      "application/vnd.databricks.v1+output": {
       "addedWidgets": {},
       "aggData": [],
       "aggError": "",
       "aggOverflow": false,
       "aggSchema": [],
       "aggSeriesLimitReached": false,
       "aggType": "",
       "arguments": {},
       "columnCustomDisplayInfos": {},
       "data": [
        [
         1,
         "Alicia Kaiser",
         "1000.00"
        ],
        [
         2,
         "Donna Ellis",
         "1000.00"
        ],
        [
         3,
         "Kenneth Smith",
         "1000.00"
        ],
        [
         4,
         "Danny Clark",
         "2000.00"
        ],
        [
         5,
         "Nicholas Thompson",
         "3000.00"
        ],
        [
         6,
         "Frances Griffith",
         "4000.00"
        ],
        [
         7,
         "Trevor Harrington",
         "2000.00"
        ],
        [
         8,
         "Seth Mitchell",
         "3000.00"
        ],
        [
         9,
         "Patrick Caldwell",
         "2000.00"
        ],
        [
         10,
         "Laura Hopkins",
         "100.00"
        ]
       ],
       "datasetInfos": [],
       "dbfsResultPath": null,
       "isJsonSchema": true,
       "metadata": {},
       "overflow": false,
       "plotOptions": {
        "customPlotOptions": {},
        "displayType": "table",
        "pivotAggregation": null,
        "pivotColumns": null,
        "xColumns": null,
        "yColumns": null
       },
       "removedWidgets": [],
       "schema": [
        {
         "metadata": "{}",
         "name": "client_number",
         "type": "\"integer\""
        },
        {
         "metadata": "{}",
         "name": "name",
         "type": "\"string\""
        },
        {
         "metadata": "{}",
         "name": "amout",
         "type": "\"string\""
        }
       ],
       "type": "table"
      }
     },
     "output_type": "display_data"
    }
   ],
   "source": [
    "display(df.select(\"client_number\",\"name\", \"amout\"))"
   ]
  },
  {
   "cell_type": "code",
   "execution_count": 0,
   "metadata": {
    "application/vnd.databricks.v1+cell": {
     "cellMetadata": {
      "byteLimit": 2048000,
      "rowLimit": 10000
     },
     "inputWidgets": {},
     "nuid": "dc7151ab-c358-4f7c-8036-2f11e149383f",
     "showTitle": false,
     "tableResultSettingsMap": {},
     "title": ""
    }
   },
   "outputs": [],
   "source": [
    "df.createTempView(\"client\")"
   ]
  },
  {
   "cell_type": "code",
   "execution_count": 0,
   "metadata": {
    "application/vnd.databricks.v1+cell": {
     "cellMetadata": {
      "byteLimit": 2048000,
      "implicitDf": true,
      "rowLimit": 10000
     },
     "inputWidgets": {},
     "nuid": "a932b67e-495b-4c5e-96fd-420267f5404c",
     "showTitle": false,
     "tableResultSettingsMap": {},
     "title": ""
    }
   },
   "outputs": [
    {
     "output_type": "display_data",
     "data": {
      "text/html": [
       "<style scoped>\n",
       "  .table-result-container {\n",
       "    max-height: 300px;\n",
       "    overflow: auto;\n",
       "  }\n",
       "  table, th, td {\n",
       "    border: 1px solid black;\n",
       "    border-collapse: collapse;\n",
       "  }\n",
       "  th, td {\n",
       "    padding: 5px;\n",
       "  }\n",
       "  th {\n",
       "    text-align: left;\n",
       "  }\n",
       "</style><div class='table-result-container'><table class='table-result'><thead style='background-color: white'><tr><th>client_number</th><th>amout</th></tr></thead><tbody><tr><td>1</td><td>1000.00</td></tr><tr><td>2</td><td>1000.00</td></tr><tr><td>3</td><td>1000.00</td></tr><tr><td>4</td><td>2000.00</td></tr><tr><td>5</td><td>3000.00</td></tr><tr><td>6</td><td>4000.00</td></tr><tr><td>7</td><td>2000.00</td></tr><tr><td>8</td><td>3000.00</td></tr><tr><td>9</td><td>2000.00</td></tr><tr><td>10</td><td>100.00</td></tr></tbody></table></div>"
      ]
     },
     "metadata": {
      "application/vnd.databricks.v1+output": {
       "addedWidgets": {},
       "aggData": [],
       "aggError": "",
       "aggOverflow": false,
       "aggSchema": [],
       "aggSeriesLimitReached": false,
       "aggType": "",
       "arguments": {},
       "columnCustomDisplayInfos": {},
       "data": [
        [
         1,
         "1000.00"
        ],
        [
         2,
         "1000.00"
        ],
        [
         3,
         "1000.00"
        ],
        [
         4,
         "2000.00"
        ],
        [
         5,
         "3000.00"
        ],
        [
         6,
         "4000.00"
        ],
        [
         7,
         "2000.00"
        ],
        [
         8,
         "3000.00"
        ],
        [
         9,
         "2000.00"
        ],
        [
         10,
         "100.00"
        ]
       ],
       "datasetInfos": [],
       "dbfsResultPath": null,
       "isJsonSchema": true,
       "metadata": {
        "createTempViewForImplicitDf": true,
        "dataframeName": "_sqldf",
        "executionCount": 13
       },
       "overflow": false,
       "plotOptions": {
        "customPlotOptions": {},
        "displayType": "table",
        "pivotAggregation": null,
        "pivotColumns": null,
        "xColumns": null,
        "yColumns": null
       },
       "removedWidgets": [],
       "schema": [
        {
         "metadata": "{}",
         "name": "client_number",
         "type": "\"integer\""
        },
        {
         "metadata": "{}",
         "name": "amout",
         "type": "\"string\""
        }
       ],
       "type": "table"
      }
     },
     "output_type": "display_data"
    }
   ],
   "source": [
    "%sql\n",
    "select client_number,amout from client"
   ]
  },
  {
   "cell_type": "markdown",
   "metadata": {
    "application/vnd.databricks.v1+cell": {
     "cellMetadata": {},
     "inputWidgets": {},
     "nuid": "2495ef6e-39fd-48a8-80fc-4908e661db32",
     "showTitle": false,
     "tableResultSettingsMap": {},
     "title": ""
    }
   },
   "source": [
    "There are various options to access columns in a DataFrame. Below, you can find a few examples:"
   ]
  },
  {
   "cell_type": "code",
   "execution_count": 0,
   "metadata": {
    "application/vnd.databricks.v1+cell": {
     "cellMetadata": {
      "byteLimit": 2048000,
      "rowLimit": 10000
     },
     "inputWidgets": {},
     "nuid": "4f524706-2c6d-4e3a-9f51-560897b6f134",
     "showTitle": false,
     "tableResultSettingsMap": {},
     "title": ""
    }
   },
   "outputs": [
    {
     "output_type": "display_data",
     "data": {
      "text/html": [
       "<style scoped>\n",
       "  .table-result-container {\n",
       "    max-height: 300px;\n",
       "    overflow: auto;\n",
       "  }\n",
       "  table, th, td {\n",
       "    border: 1px solid black;\n",
       "    border-collapse: collapse;\n",
       "  }\n",
       "  th, td {\n",
       "    padding: 5px;\n",
       "  }\n",
       "  th {\n",
       "    text-align: left;\n",
       "  }\n",
       "</style><div class='table-result-container'><table class='table-result'><thead style='background-color: white'><tr><th>client_num</th><th>client_num</th><th>client_number</th></tr></thead><tbody><tr><td>1</td><td>1</td><td>1</td></tr><tr><td>2</td><td>2</td><td>2</td></tr></tbody></table></div>"
      ]
     },
     "metadata": {
      "application/vnd.databricks.v1+output": {
       "addedWidgets": {},
       "aggData": [],
       "aggError": "",
       "aggOverflow": false,
       "aggSchema": [],
       "aggSeriesLimitReached": false,
       "aggType": "",
       "arguments": {},
       "columnCustomDisplayInfos": {},
       "data": [
        [
         1,
         1,
         1
        ],
        [
         2,
         2,
         2
        ]
       ],
       "datasetInfos": [],
       "dbfsResultPath": null,
       "isJsonSchema": true,
       "metadata": {},
       "overflow": false,
       "plotOptions": {
        "customPlotOptions": {},
        "displayType": "table",
        "pivotAggregation": null,
        "pivotColumns": null,
        "xColumns": null,
        "yColumns": null
       },
       "removedWidgets": [],
       "schema": [
        {
         "metadata": "{}",
         "name": "client_num",
         "type": "\"integer\""
        },
        {
         "metadata": "{}",
         "name": "client_num",
         "type": "\"integer\""
        },
        {
         "metadata": "{}",
         "name": "client_number",
         "type": "\"integer\""
        }
       ],
       "type": "table"
      }
     },
     "output_type": "display_data"
    }
   ],
   "source": [
    "from pyspark.sql.functions import expr, col, column\n",
    "display(df.select(\n",
    "expr(\"client_number as client_num\"),\n",
    "col(\"client_number\").alias(\"client_num\"),\n",
    "column(\"client_number\"))\\\n",
    ".limit(2))"
   ]
  },
  {
   "cell_type": "markdown",
   "metadata": {
    "application/vnd.databricks.v1+cell": {
     "cellMetadata": {},
     "inputWidgets": {},
     "nuid": "df756d43-f538-4e66-a874-26b0c6105690",
     "showTitle": false,
     "tableResultSettingsMap": {},
     "title": ""
    }
   },
   "source": [
    "During data transformation, common scenarios include changing data types, renaming columns, adding new columns, and deriving new columns based on values from others. Let’s explore how we can achieve these tasks."
   ]
  },
  {
   "cell_type": "code",
   "execution_count": 0,
   "metadata": {
    "application/vnd.databricks.v1+cell": {
     "cellMetadata": {
      "byteLimit": 2048000,
      "rowLimit": 10000
     },
     "inputWidgets": {},
     "nuid": "7a2f618d-bd23-4f38-9c68-91f1209cd4db",
     "showTitle": false,
     "tableResultSettingsMap": {},
     "title": ""
    }
   },
   "outputs": [
    {
     "output_type": "display_data",
     "data": {
      "text/html": [
       "<style scoped>\n",
       "  .table-result-container {\n",
       "    max-height: 300px;\n",
       "    overflow: auto;\n",
       "  }\n",
       "  table, th, td {\n",
       "    border: 1px solid black;\n",
       "    border-collapse: collapse;\n",
       "  }\n",
       "  th, td {\n",
       "    padding: 5px;\n",
       "  }\n",
       "  th {\n",
       "    text-align: left;\n",
       "  }\n",
       "</style><div class='table-result-container'><table class='table-result'><thead style='background-color: white'><tr><th>client_number</th><th>name</th><th>branch</th><th>phone_number</th><th>bulding_number</th><th>street_name</th><th>postcode</th><th>city</th><th>state</th><th>amout</th><th>age</th><th>load_date</th></tr></thead><tbody><tr><td>1</td><td>Alicia Kaiser</td><td>WA</td><td>001-677-774-4370</td><td>13714</td><td>Stacy Summit</td><td>54799</td><td>Lake Joseborough</td><td>Delaware</td><td>1000.00</td><td>86</td><td>2025-03-14</td></tr><tr><td>2</td><td>Donna Ellis</td><td>BR</td><td>001-631-995-8008</td><td>43599</td><td>Adam Trail</td><td>07204</td><td>Port April</td><td>Montana</td><td>1000.00</td><td>59</td><td>2025-03-14</td></tr><tr><td>3</td><td>Kenneth Smith</td><td>WA</td><td>001-592-849-6009x4173</td><td>649</td><td>Sherri Grove</td><td>14527</td><td>North Miranda</td><td>Washington</td><td>1000.00</td><td>27</td><td>2025-03-14</td></tr><tr><td>4</td><td>Danny Clark</td><td>WA</td><td>574.419.0221x348</td><td>285</td><td>Timothy Drive</td><td>41106</td><td>West Erica</td><td>Maryland</td><td>2000.00</td><td>77</td><td>2025-03-14</td></tr><tr><td>5</td><td>Nicholas Thompson</td><td>CA</td><td>(259)268-8760x061</td><td>998</td><td>Russell Shoals</td><td>65647</td><td>South Todd</td><td>South Carolina</td><td>3000.00</td><td>40</td><td>2025-03-14</td></tr><tr><td>6</td><td>Frances Griffith</td><td>WA</td><td>7535316823</td><td>9559</td><td>Emily Branch</td><td>71422</td><td>Mcdanielhaven</td><td>New York</td><td>4000.00</td><td>41</td><td>2025-03-14</td></tr><tr><td>7</td><td>Trevor Harrington</td><td>CA</td><td>742.224.9375</td><td>5960</td><td>Lisa Port</td><td>73881</td><td>Loganbury</td><td>New York</td><td>2000.00</td><td>46</td><td>2025-03-14</td></tr><tr><td>8</td><td>Seth Mitchell</td><td>AA</td><td>(386)517-7589x04440</td><td>47352</td><td>Stafford Loop</td><td>01347</td><td>South Alexander</td><td>North Dakota</td><td>3000.00</td><td>81</td><td>2025-03-14</td></tr><tr><td>9</td><td>Patrick Caldwell</td><td>BR</td><td>001-307-225-9094</td><td>0170</td><td>Amanda Dam</td><td>24885</td><td>Port Mollyhaven</td><td>Connecticut</td><td>2000.00</td><td>52</td><td>2025-03-14</td></tr><tr><td>10</td><td>Laura Hopkins</td><td>CA</td><td>9095819755</td><td>143</td><td>Lee Brook</td><td>23623</td><td>Jarvisland</td><td>Hawaii</td><td>100.00</td><td>54</td><td>2025-03-14</td></tr></tbody></table></div>"
      ]
     },
     "metadata": {
      "application/vnd.databricks.v1+output": {
       "addedWidgets": {},
       "aggData": [],
       "aggError": "",
       "aggOverflow": false,
       "aggSchema": [],
       "aggSeriesLimitReached": false,
       "aggType": "",
       "arguments": {},
       "columnCustomDisplayInfos": {},
       "data": [
        [
         1,
         "Alicia Kaiser",
         "WA",
         "001-677-774-4370",
         "13714",
         "Stacy Summit",
         "54799",
         "Lake Joseborough",
         "Delaware",
         "1000.00",
         86,
         "2025-03-14"
        ],
        [
         2,
         "Donna Ellis",
         "BR",
         "001-631-995-8008",
         "43599",
         "Adam Trail",
         "07204",
         "Port April",
         "Montana",
         "1000.00",
         59,
         "2025-03-14"
        ],
        [
         3,
         "Kenneth Smith",
         "WA",
         "001-592-849-6009x4173",
         "649",
         "Sherri Grove",
         "14527",
         "North Miranda",
         "Washington",
         "1000.00",
         27,
         "2025-03-14"
        ],
        [
         4,
         "Danny Clark",
         "WA",
         "574.419.0221x348",
         "285",
         "Timothy Drive",
         "41106",
         "West Erica",
         "Maryland",
         "2000.00",
         77,
         "2025-03-14"
        ],
        [
         5,
         "Nicholas Thompson",
         "CA",
         "(259)268-8760x061",
         "998",
         "Russell Shoals",
         "65647",
         "South Todd",
         "South Carolina",
         "3000.00",
         40,
         "2025-03-14"
        ],
        [
         6,
         "Frances Griffith",
         "WA",
         "7535316823",
         "9559",
         "Emily Branch",
         "71422",
         "Mcdanielhaven",
         "New York",
         "4000.00",
         41,
         "2025-03-14"
        ],
        [
         7,
         "Trevor Harrington",
         "CA",
         "742.224.9375",
         "5960",
         "Lisa Port",
         "73881",
         "Loganbury",
         "New York",
         "2000.00",
         46,
         "2025-03-14"
        ],
        [
         8,
         "Seth Mitchell",
         "AA",
         "(386)517-7589x04440",
         "47352",
         "Stafford Loop",
         "01347",
         "South Alexander",
         "North Dakota",
         "3000.00",
         81,
         "2025-03-14"
        ],
        [
         9,
         "Patrick Caldwell",
         "BR",
         "001-307-225-9094",
         "0170",
         "Amanda Dam",
         "24885",
         "Port Mollyhaven",
         "Connecticut",
         "2000.00",
         52,
         "2025-03-14"
        ],
        [
         10,
         "Laura Hopkins",
         "CA",
         "9095819755",
         "143",
         "Lee Brook",
         "23623",
         "Jarvisland",
         "Hawaii",
         "100.00",
         54,
         "2025-03-14"
        ]
       ],
       "datasetInfos": [],
       "dbfsResultPath": null,
       "isJsonSchema": true,
       "metadata": {},
       "overflow": false,
       "plotOptions": {
        "customPlotOptions": {},
        "displayType": "table",
        "pivotAggregation": null,
        "pivotColumns": null,
        "xColumns": null,
        "yColumns": null
       },
       "removedWidgets": [],
       "schema": [
        {
         "metadata": "{}",
         "name": "client_number",
         "type": "\"integer\""
        },
        {
         "metadata": "{}",
         "name": "name",
         "type": "\"string\""
        },
        {
         "metadata": "{}",
         "name": "branch",
         "type": "\"string\""
        },
        {
         "metadata": "{}",
         "name": "phone_number",
         "type": "\"string\""
        },
        {
         "metadata": "{}",
         "name": "bulding_number",
         "type": "\"string\""
        },
        {
         "metadata": "{}",
         "name": "street_name",
         "type": "\"string\""
        },
        {
         "metadata": "{}",
         "name": "postcode",
         "type": "\"string\""
        },
        {
         "metadata": "{}",
         "name": "city",
         "type": "\"string\""
        },
        {
         "metadata": "{}",
         "name": "state",
         "type": "\"string\""
        },
        {
         "metadata": "{}",
         "name": "amout",
         "type": "\"decimal(10,2)\""
        },
        {
         "metadata": "{}",
         "name": "age",
         "type": "\"integer\""
        },
        {
         "metadata": "{}",
         "name": "load_date",
         "type": "\"date\""
        }
       ],
       "type": "table"
      }
     },
     "output_type": "display_data"
    }
   ],
   "source": [
    "from pyspark.sql.functions import expr, col, column, lit, exp, current_date\n",
    "\n",
    "age_exp = \"extract( year from current_date) - extract( year from birth_date) \"\n",
    "\n",
    "df1 = df.withColumn(\"amout\", col(\"amout\").cast(\"decimal(10,2)\")) \\\n",
    "     .withColumn(\"birth_date\", col(\"birth_date\").cast(\"date\")) \\\n",
    "     .withColumn(\"age\", expr(age_exp)) \\\n",
    "     .withColumn(\"load_date\", lit(current_date()))\n",
    "\n",
    "df1 = df1.drop(\"credit_card_number\", \"birth_date\")\n",
    "\n",
    "display(df1)\n",
    "\n",
    "# In this example, we utilize the withColumn function to calculate age, add load date columns, and change the amount to decimal data type. Additionally, we can drop columns with unnecessary data. The same result can be achieved using SQL."
   ]
  },
  {
   "cell_type": "code",
   "execution_count": 0,
   "metadata": {
    "application/vnd.databricks.v1+cell": {
     "cellMetadata": {
      "byteLimit": 2048000,
      "rowLimit": 10000
     },
     "inputWidgets": {},
     "nuid": "17b45833-d868-48eb-b88d-e96d6ec4e7c1",
     "showTitle": false,
     "tableResultSettingsMap": {},
     "title": ""
    }
   },
   "outputs": [
    {
     "output_type": "display_data",
     "data": {
      "text/html": [
       "<style scoped>\n",
       "  .table-result-container {\n",
       "    max-height: 300px;\n",
       "    overflow: auto;\n",
       "  }\n",
       "  table, th, td {\n",
       "    border: 1px solid black;\n",
       "    border-collapse: collapse;\n",
       "  }\n",
       "  th, td {\n",
       "    padding: 5px;\n",
       "  }\n",
       "  th {\n",
       "    text-align: left;\n",
       "  }\n",
       "</style><div class='table-result-container'><table class='table-result'><thead style='background-color: white'><tr><th>client_number</th><th>name</th><th>bulding_number</th><th>street_name</th><th>postcode</th><th>city</th><th>state</th><th>amount</th><th>age</th><th>load_date</th></tr></thead><tbody><tr><td>1</td><td>Alicia Kaiser</td><td>13714</td><td>Stacy Summit</td><td>54799</td><td>Lake Joseborough</td><td>Delaware</td><td>1000.00</td><td>86</td><td>2025-03-14</td></tr><tr><td>2</td><td>Donna Ellis</td><td>43599</td><td>Adam Trail</td><td>07204</td><td>Port April</td><td>Montana</td><td>1000.00</td><td>59</td><td>2025-03-14</td></tr><tr><td>3</td><td>Kenneth Smith</td><td>649</td><td>Sherri Grove</td><td>14527</td><td>North Miranda</td><td>Washington</td><td>1000.00</td><td>27</td><td>2025-03-14</td></tr><tr><td>4</td><td>Danny Clark</td><td>285</td><td>Timothy Drive</td><td>41106</td><td>West Erica</td><td>Maryland</td><td>2000.00</td><td>77</td><td>2025-03-14</td></tr><tr><td>5</td><td>Nicholas Thompson</td><td>998</td><td>Russell Shoals</td><td>65647</td><td>South Todd</td><td>South Carolina</td><td>3000.00</td><td>40</td><td>2025-03-14</td></tr><tr><td>6</td><td>Frances Griffith</td><td>9559</td><td>Emily Branch</td><td>71422</td><td>Mcdanielhaven</td><td>New York</td><td>4000.00</td><td>41</td><td>2025-03-14</td></tr><tr><td>7</td><td>Trevor Harrington</td><td>5960</td><td>Lisa Port</td><td>73881</td><td>Loganbury</td><td>New York</td><td>2000.00</td><td>46</td><td>2025-03-14</td></tr><tr><td>8</td><td>Seth Mitchell</td><td>47352</td><td>Stafford Loop</td><td>01347</td><td>South Alexander</td><td>North Dakota</td><td>3000.00</td><td>81</td><td>2025-03-14</td></tr><tr><td>9</td><td>Patrick Caldwell</td><td>0170</td><td>Amanda Dam</td><td>24885</td><td>Port Mollyhaven</td><td>Connecticut</td><td>2000.00</td><td>52</td><td>2025-03-14</td></tr><tr><td>10</td><td>Laura Hopkins</td><td>143</td><td>Lee Brook</td><td>23623</td><td>Jarvisland</td><td>Hawaii</td><td>100.00</td><td>54</td><td>2025-03-14</td></tr></tbody></table></div>"
      ]
     },
     "metadata": {
      "application/vnd.databricks.v1+output": {
       "addedWidgets": {},
       "aggData": [],
       "aggError": "",
       "aggOverflow": false,
       "aggSchema": [],
       "aggSeriesLimitReached": false,
       "aggType": "",
       "arguments": {},
       "columnCustomDisplayInfos": {},
       "data": [
        [
         1,
         "Alicia Kaiser",
         "13714",
         "Stacy Summit",
         "54799",
         "Lake Joseborough",
         "Delaware",
         "1000.00",
         86,
         "2025-03-14"
        ],
        [
         2,
         "Donna Ellis",
         "43599",
         "Adam Trail",
         "07204",
         "Port April",
         "Montana",
         "1000.00",
         59,
         "2025-03-14"
        ],
        [
         3,
         "Kenneth Smith",
         "649",
         "Sherri Grove",
         "14527",
         "North Miranda",
         "Washington",
         "1000.00",
         27,
         "2025-03-14"
        ],
        [
         4,
         "Danny Clark",
         "285",
         "Timothy Drive",
         "41106",
         "West Erica",
         "Maryland",
         "2000.00",
         77,
         "2025-03-14"
        ],
        [
         5,
         "Nicholas Thompson",
         "998",
         "Russell Shoals",
         "65647",
         "South Todd",
         "South Carolina",
         "3000.00",
         40,
         "2025-03-14"
        ],
        [
         6,
         "Frances Griffith",
         "9559",
         "Emily Branch",
         "71422",
         "Mcdanielhaven",
         "New York",
         "4000.00",
         41,
         "2025-03-14"
        ],
        [
         7,
         "Trevor Harrington",
         "5960",
         "Lisa Port",
         "73881",
         "Loganbury",
         "New York",
         "2000.00",
         46,
         "2025-03-14"
        ],
        [
         8,
         "Seth Mitchell",
         "47352",
         "Stafford Loop",
         "01347",
         "South Alexander",
         "North Dakota",
         "3000.00",
         81,
         "2025-03-14"
        ],
        [
         9,
         "Patrick Caldwell",
         "0170",
         "Amanda Dam",
         "24885",
         "Port Mollyhaven",
         "Connecticut",
         "2000.00",
         52,
         "2025-03-14"
        ],
        [
         10,
         "Laura Hopkins",
         "143",
         "Lee Brook",
         "23623",
         "Jarvisland",
         "Hawaii",
         "100.00",
         54,
         "2025-03-14"
        ]
       ],
       "datasetInfos": [],
       "dbfsResultPath": null,
       "isJsonSchema": true,
       "metadata": {},
       "overflow": false,
       "plotOptions": {
        "customPlotOptions": {},
        "displayType": "table",
        "pivotAggregation": null,
        "pivotColumns": null,
        "xColumns": null,
        "yColumns": null
       },
       "removedWidgets": [],
       "schema": [
        {
         "metadata": "{}",
         "name": "client_number",
         "type": "\"integer\""
        },
        {
         "metadata": "{}",
         "name": "name",
         "type": "\"string\""
        },
        {
         "metadata": "{}",
         "name": "bulding_number",
         "type": "\"string\""
        },
        {
         "metadata": "{}",
         "name": "street_name",
         "type": "\"string\""
        },
        {
         "metadata": "{}",
         "name": "postcode",
         "type": "\"string\""
        },
        {
         "metadata": "{}",
         "name": "city",
         "type": "\"string\""
        },
        {
         "metadata": "{}",
         "name": "state",
         "type": "\"string\""
        },
        {
         "metadata": "{}",
         "name": "amount",
         "type": "\"decimal(10,2)\""
        },
        {
         "metadata": "{}",
         "name": "age",
         "type": "\"integer\""
        },
        {
         "metadata": "{}",
         "name": "load_date",
         "type": "\"date\""
        }
       ],
       "type": "table"
      }
     },
     "output_type": "display_data"
    }
   ],
   "source": [
    "df.createOrReplaceTempView(\"client\")\n",
    "\n",
    "df1 = spark.sql(\"\"\"\n",
    "               select \n",
    "                client_number,\n",
    "                name,\n",
    "                bulding_number,\n",
    "                street_name,\n",
    "                postcode,\n",
    "                city,\n",
    "                state,\n",
    "                cast(amout as decimal(10,2)) amount,\n",
    "                extract( year from current_date) - extract( year from birth_date) as age,\n",
    "                current_date()  load_date\n",
    "               from \n",
    "               client\n",
    "               \"\"\")\n",
    "display(df1)   "
   ]
  },
  {
   "cell_type": "markdown",
   "metadata": {
    "application/vnd.databricks.v1+cell": {
     "cellMetadata": {},
     "inputWidgets": {},
     "nuid": "894af136-b800-47e1-976b-d5ea277064e2",
     "showTitle": false,
     "tableResultSettingsMap": {},
     "title": ""
    }
   },
   "source": [
    "Filtering Rows in a DataFrame\n",
    "Filtering rows in a DataFrame involves creating a condition that separates the data you want to keep from the data you don’t. This condition can be written as a simple expression or built from multiple comparisons. DataFrames offer two methods, where and filter, to achieve this filtering based on your chosen condition."
   ]
  },
  {
   "cell_type": "code",
   "execution_count": 0,
   "metadata": {
    "application/vnd.databricks.v1+cell": {
     "cellMetadata": {
      "byteLimit": 2048000,
      "rowLimit": 10000
     },
     "inputWidgets": {},
     "nuid": "0f3d358b-6d8a-4889-8648-fe45250b144c",
     "showTitle": false,
     "tableResultSettingsMap": {},
     "title": ""
    }
   },
   "outputs": [
    {
     "output_type": "display_data",
     "data": {
      "text/html": [
       "<style scoped>\n",
       "  .table-result-container {\n",
       "    max-height: 300px;\n",
       "    overflow: auto;\n",
       "  }\n",
       "  table, th, td {\n",
       "    border: 1px solid black;\n",
       "    border-collapse: collapse;\n",
       "  }\n",
       "  th, td {\n",
       "    padding: 5px;\n",
       "  }\n",
       "  th {\n",
       "    text-align: left;\n",
       "  }\n",
       "</style><div class='table-result-container'><table class='table-result'><thead style='background-color: white'><tr><th>client_number</th><th>name</th><th>bulding_number</th><th>street_name</th><th>postcode</th><th>city</th><th>state</th><th>amount</th><th>age</th><th>load_date</th></tr></thead><tbody><tr><td>1</td><td>Alicia Kaiser</td><td>13714</td><td>Stacy Summit</td><td>54799</td><td>Lake Joseborough</td><td>Delaware</td><td>1000.00</td><td>86</td><td>2025-03-14</td></tr></tbody></table></div>"
      ]
     },
     "metadata": {
      "application/vnd.databricks.v1+output": {
       "addedWidgets": {},
       "aggData": [],
       "aggError": "",
       "aggOverflow": false,
       "aggSchema": [],
       "aggSeriesLimitReached": false,
       "aggType": "",
       "arguments": {},
       "columnCustomDisplayInfos": {},
       "data": [
        [
         1,
         "Alicia Kaiser",
         "13714",
         "Stacy Summit",
         "54799",
         "Lake Joseborough",
         "Delaware",
         "1000.00",
         86,
         "2025-03-14"
        ]
       ],
       "datasetInfos": [],
       "dbfsResultPath": null,
       "isJsonSchema": true,
       "metadata": {},
       "overflow": false,
       "plotOptions": {
        "customPlotOptions": {},
        "displayType": "table",
        "pivotAggregation": null,
        "pivotColumns": null,
        "xColumns": null,
        "yColumns": null
       },
       "removedWidgets": [],
       "schema": [
        {
         "metadata": "{}",
         "name": "client_number",
         "type": "\"integer\""
        },
        {
         "metadata": "{}",
         "name": "name",
         "type": "\"string\""
        },
        {
         "metadata": "{}",
         "name": "bulding_number",
         "type": "\"string\""
        },
        {
         "metadata": "{}",
         "name": "street_name",
         "type": "\"string\""
        },
        {
         "metadata": "{}",
         "name": "postcode",
         "type": "\"string\""
        },
        {
         "metadata": "{}",
         "name": "city",
         "type": "\"string\""
        },
        {
         "metadata": "{}",
         "name": "state",
         "type": "\"string\""
        },
        {
         "metadata": "{}",
         "name": "amount",
         "type": "\"decimal(10,2)\""
        },
        {
         "metadata": "{}",
         "name": "age",
         "type": "\"integer\""
        },
        {
         "metadata": "{}",
         "name": "load_date",
         "type": "\"date\""
        }
       ],
       "type": "table"
      }
     },
     "output_type": "display_data"
    }
   ],
   "source": [
    "display(df1.where(\"age >= 85\"))\n"
   ]
  },
  {
   "cell_type": "code",
   "execution_count": 0,
   "metadata": {
    "application/vnd.databricks.v1+cell": {
     "cellMetadata": {
      "byteLimit": 2048000,
      "rowLimit": 10000
     },
     "inputWidgets": {},
     "nuid": "535eb8f2-1e0b-4792-990f-a4456ba3c350",
     "showTitle": false,
     "tableResultSettingsMap": {},
     "title": ""
    }
   },
   "outputs": [
    {
     "output_type": "display_data",
     "data": {
      "text/html": [
       "<style scoped>\n",
       "  .table-result-container {\n",
       "    max-height: 300px;\n",
       "    overflow: auto;\n",
       "  }\n",
       "  table, th, td {\n",
       "    border: 1px solid black;\n",
       "    border-collapse: collapse;\n",
       "  }\n",
       "  th, td {\n",
       "    padding: 5px;\n",
       "  }\n",
       "  th {\n",
       "    text-align: left;\n",
       "  }\n",
       "</style><div class='table-result-container'><table class='table-result'><thead style='background-color: white'><tr><th>client_number</th><th>name</th><th>bulding_number</th><th>street_name</th><th>postcode</th><th>city</th><th>state</th><th>amount</th><th>age</th><th>load_date</th></tr></thead><tbody><tr><td>1</td><td>Alicia Kaiser</td><td>13714</td><td>Stacy Summit</td><td>54799</td><td>Lake Joseborough</td><td>Delaware</td><td>1000.00</td><td>86</td><td>2025-03-14</td></tr></tbody></table></div>"
      ]
     },
     "metadata": {
      "application/vnd.databricks.v1+output": {
       "addedWidgets": {},
       "aggData": [],
       "aggError": "",
       "aggOverflow": false,
       "aggSchema": [],
       "aggSeriesLimitReached": false,
       "aggType": "",
       "arguments": {},
       "columnCustomDisplayInfos": {},
       "data": [
        [
         1,
         "Alicia Kaiser",
         "13714",
         "Stacy Summit",
         "54799",
         "Lake Joseborough",
         "Delaware",
         "1000.00",
         86,
         "2025-03-14"
        ]
       ],
       "datasetInfos": [],
       "dbfsResultPath": null,
       "isJsonSchema": true,
       "metadata": {},
       "overflow": false,
       "plotOptions": {
        "customPlotOptions": {},
        "displayType": "table",
        "pivotAggregation": null,
        "pivotColumns": null,
        "xColumns": null,
        "yColumns": null
       },
       "removedWidgets": [],
       "schema": [
        {
         "metadata": "{}",
         "name": "client_number",
         "type": "\"integer\""
        },
        {
         "metadata": "{}",
         "name": "name",
         "type": "\"string\""
        },
        {
         "metadata": "{}",
         "name": "bulding_number",
         "type": "\"string\""
        },
        {
         "metadata": "{}",
         "name": "street_name",
         "type": "\"string\""
        },
        {
         "metadata": "{}",
         "name": "postcode",
         "type": "\"string\""
        },
        {
         "metadata": "{}",
         "name": "city",
         "type": "\"string\""
        },
        {
         "metadata": "{}",
         "name": "state",
         "type": "\"string\""
        },
        {
         "metadata": "{}",
         "name": "amount",
         "type": "\"decimal(10,2)\""
        },
        {
         "metadata": "{}",
         "name": "age",
         "type": "\"integer\""
        },
        {
         "metadata": "{}",
         "name": "load_date",
         "type": "\"date\""
        }
       ],
       "type": "table"
      }
     },
     "output_type": "display_data"
    }
   ],
   "source": [
    "display(df1.where(col(\"age\") >= 85))"
   ]
  },
  {
   "cell_type": "markdown",
   "metadata": {
    "application/vnd.databricks.v1+cell": {
     "cellMetadata": {},
     "inputWidgets": {},
     "nuid": "ae2387e6-30b6-45f7-bd3a-f0ff0b6babc7",
     "showTitle": false,
     "tableResultSettingsMap": {},
     "title": ""
    }
   },
   "source": [
    "iltering using AND or OR conditions, allowing for greater flexibility in specifying conditions for row selection."
   ]
  },
  {
   "cell_type": "code",
   "execution_count": 0,
   "metadata": {
    "application/vnd.databricks.v1+cell": {
     "cellMetadata": {
      "byteLimit": 2048000,
      "rowLimit": 10000
     },
     "inputWidgets": {},
     "nuid": "6ebb500e-75c6-4596-9a9f-cf05410efcde",
     "showTitle": false,
     "tableResultSettingsMap": {},
     "title": ""
    }
   },
   "outputs": [
    {
     "output_type": "display_data",
     "data": {
      "text/html": [
       "<style scoped>\n",
       "  .table-result-container {\n",
       "    max-height: 300px;\n",
       "    overflow: auto;\n",
       "  }\n",
       "  table, th, td {\n",
       "    border: 1px solid black;\n",
       "    border-collapse: collapse;\n",
       "  }\n",
       "  th, td {\n",
       "    padding: 5px;\n",
       "  }\n",
       "  th {\n",
       "    text-align: left;\n",
       "  }\n",
       "</style><div class='table-result-container'><table class='table-result'><thead style='background-color: white'><tr><th>client_number</th><th>name</th><th>bulding_number</th><th>street_name</th><th>postcode</th><th>city</th><th>state</th><th>amount</th><th>age</th><th>load_date</th></tr></thead><tbody><tr><td>1</td><td>Alicia Kaiser</td><td>13714</td><td>Stacy Summit</td><td>54799</td><td>Lake Joseborough</td><td>Delaware</td><td>1000.00</td><td>86</td><td>2025-03-14</td></tr><tr><td>3</td><td>Kenneth Smith</td><td>649</td><td>Sherri Grove</td><td>14527</td><td>North Miranda</td><td>Washington</td><td>1000.00</td><td>27</td><td>2025-03-14</td></tr></tbody></table></div>"
      ]
     },
     "metadata": {
      "application/vnd.databricks.v1+output": {
       "addedWidgets": {},
       "aggData": [],
       "aggError": "",
       "aggOverflow": false,
       "aggSchema": [],
       "aggSeriesLimitReached": false,
       "aggType": "",
       "arguments": {},
       "columnCustomDisplayInfos": {},
       "data": [
        [
         1,
         "Alicia Kaiser",
         "13714",
         "Stacy Summit",
         "54799",
         "Lake Joseborough",
         "Delaware",
         "1000.00",
         86,
         "2025-03-14"
        ],
        [
         3,
         "Kenneth Smith",
         "649",
         "Sherri Grove",
         "14527",
         "North Miranda",
         "Washington",
         "1000.00",
         27,
         "2025-03-14"
        ]
       ],
       "datasetInfos": [],
       "dbfsResultPath": null,
       "isJsonSchema": true,
       "metadata": {},
       "overflow": false,
       "plotOptions": {
        "customPlotOptions": {},
        "displayType": "table",
        "pivotAggregation": null,
        "pivotColumns": null,
        "xColumns": null,
        "yColumns": null
       },
       "removedWidgets": [],
       "schema": [
        {
         "metadata": "{}",
         "name": "client_number",
         "type": "\"integer\""
        },
        {
         "metadata": "{}",
         "name": "name",
         "type": "\"string\""
        },
        {
         "metadata": "{}",
         "name": "bulding_number",
         "type": "\"string\""
        },
        {
         "metadata": "{}",
         "name": "street_name",
         "type": "\"string\""
        },
        {
         "metadata": "{}",
         "name": "postcode",
         "type": "\"string\""
        },
        {
         "metadata": "{}",
         "name": "city",
         "type": "\"string\""
        },
        {
         "metadata": "{}",
         "name": "state",
         "type": "\"string\""
        },
        {
         "metadata": "{}",
         "name": "amount",
         "type": "\"decimal(10,2)\""
        },
        {
         "metadata": "{}",
         "name": "age",
         "type": "\"integer\""
        },
        {
         "metadata": "{}",
         "name": "load_date",
         "type": "\"date\""
        }
       ],
       "type": "table"
      }
     },
     "output_type": "display_data"
    },
    {
     "output_type": "display_data",
     "data": {
      "text/html": [
       "<style scoped>\n",
       "  .table-result-container {\n",
       "    max-height: 300px;\n",
       "    overflow: auto;\n",
       "  }\n",
       "  table, th, td {\n",
       "    border: 1px solid black;\n",
       "    border-collapse: collapse;\n",
       "  }\n",
       "  th, td {\n",
       "    padding: 5px;\n",
       "  }\n",
       "  th {\n",
       "    text-align: left;\n",
       "  }\n",
       "</style><div class='table-result-container'><table class='table-result'><thead style='background-color: white'><tr><th>client_number</th><th>name</th><th>bulding_number</th><th>street_name</th><th>postcode</th><th>city</th><th>state</th><th>amount</th><th>age</th><th>load_date</th></tr></thead><tbody><tr><td>1</td><td>Alicia Kaiser</td><td>13714</td><td>Stacy Summit</td><td>54799</td><td>Lake Joseborough</td><td>Delaware</td><td>1000.00</td><td>86</td><td>2025-03-14</td></tr><tr><td>3</td><td>Kenneth Smith</td><td>649</td><td>Sherri Grove</td><td>14527</td><td>North Miranda</td><td>Washington</td><td>1000.00</td><td>27</td><td>2025-03-14</td></tr></tbody></table></div>"
      ]
     },
     "metadata": {
      "application/vnd.databricks.v1+output": {
       "addedWidgets": {},
       "aggData": [],
       "aggError": "",
       "aggOverflow": false,
       "aggSchema": [],
       "aggSeriesLimitReached": false,
       "aggType": "",
       "arguments": {},
       "columnCustomDisplayInfos": {},
       "data": [
        [
         1,
         "Alicia Kaiser",
         "13714",
         "Stacy Summit",
         "54799",
         "Lake Joseborough",
         "Delaware",
         "1000.00",
         86,
         "2025-03-14"
        ],
        [
         3,
         "Kenneth Smith",
         "649",
         "Sherri Grove",
         "14527",
         "North Miranda",
         "Washington",
         "1000.00",
         27,
         "2025-03-14"
        ]
       ],
       "datasetInfos": [],
       "dbfsResultPath": null,
       "isJsonSchema": true,
       "metadata": {},
       "overflow": false,
       "plotOptions": {
        "customPlotOptions": {},
        "displayType": "table",
        "pivotAggregation": null,
        "pivotColumns": null,
        "xColumns": null,
        "yColumns": null
       },
       "removedWidgets": [],
       "schema": [
        {
         "metadata": "{}",
         "name": "client_number",
         "type": "\"integer\""
        },
        {
         "metadata": "{}",
         "name": "name",
         "type": "\"string\""
        },
        {
         "metadata": "{}",
         "name": "bulding_number",
         "type": "\"string\""
        },
        {
         "metadata": "{}",
         "name": "street_name",
         "type": "\"string\""
        },
        {
         "metadata": "{}",
         "name": "postcode",
         "type": "\"string\""
        },
        {
         "metadata": "{}",
         "name": "city",
         "type": "\"string\""
        },
        {
         "metadata": "{}",
         "name": "state",
         "type": "\"string\""
        },
        {
         "metadata": "{}",
         "name": "amount",
         "type": "\"decimal(10,2)\""
        },
        {
         "metadata": "{}",
         "name": "age",
         "type": "\"integer\""
        },
        {
         "metadata": "{}",
         "name": "load_date",
         "type": "\"date\""
        }
       ],
       "type": "table"
      }
     },
     "output_type": "display_data"
    }
   ],
   "source": [
    "display(df1.where(\"age >= 85 or age <=30\"))\n",
    "display(df1.filter( (col(\"age\") >= 85) |  (col(\"age\") <= 30)))"
   ]
  },
  {
   "cell_type": "code",
   "execution_count": 0,
   "metadata": {
    "application/vnd.databricks.v1+cell": {
     "cellMetadata": {
      "byteLimit": 2048000,
      "rowLimit": 10000
     },
     "inputWidgets": {},
     "nuid": "2c13f688-77cc-4296-8c11-cfb7bb7c89a4",
     "showTitle": false,
     "tableResultSettingsMap": {},
     "title": ""
    }
   },
   "outputs": [
    {
     "output_type": "display_data",
     "data": {
      "text/html": [
       "<style scoped>\n",
       "  .table-result-container {\n",
       "    max-height: 300px;\n",
       "    overflow: auto;\n",
       "  }\n",
       "  table, th, td {\n",
       "    border: 1px solid black;\n",
       "    border-collapse: collapse;\n",
       "  }\n",
       "  th, td {\n",
       "    padding: 5px;\n",
       "  }\n",
       "  th {\n",
       "    text-align: left;\n",
       "  }\n",
       "</style><div class='table-result-container'><table class='table-result'><thead style='background-color: white'><tr><th>client_number</th><th>name</th><th>bulding_number</th><th>street_name</th><th>postcode</th><th>city</th><th>state</th><th>amount</th><th>age</th><th>load_date</th></tr></thead><tbody><tr><td>2</td><td>Donna Ellis</td><td>43599</td><td>Adam Trail</td><td>07204</td><td>Port April</td><td>Montana</td><td>1000.00</td><td>59</td><td>2025-03-14</td></tr><tr><td>5</td><td>Nicholas Thompson</td><td>998</td><td>Russell Shoals</td><td>65647</td><td>South Todd</td><td>South Carolina</td><td>3000.00</td><td>40</td><td>2025-03-14</td></tr><tr><td>7</td><td>Trevor Harrington</td><td>5960</td><td>Lisa Port</td><td>73881</td><td>Loganbury</td><td>New York</td><td>2000.00</td><td>46</td><td>2025-03-14</td></tr><tr><td>8</td><td>Seth Mitchell</td><td>47352</td><td>Stafford Loop</td><td>01347</td><td>South Alexander</td><td>North Dakota</td><td>3000.00</td><td>81</td><td>2025-03-14</td></tr><tr><td>9</td><td>Patrick Caldwell</td><td>0170</td><td>Amanda Dam</td><td>24885</td><td>Port Mollyhaven</td><td>Connecticut</td><td>2000.00</td><td>52</td><td>2025-03-14</td></tr><tr><td>10</td><td>Laura Hopkins</td><td>143</td><td>Lee Brook</td><td>23623</td><td>Jarvisland</td><td>Hawaii</td><td>100.00</td><td>54</td><td>2025-03-14</td></tr></tbody></table></div>"
      ]
     },
     "metadata": {
      "application/vnd.databricks.v1+output": {
       "addedWidgets": {},
       "aggData": [],
       "aggError": "",
       "aggOverflow": false,
       "aggSchema": [],
       "aggSeriesLimitReached": false,
       "aggType": "",
       "arguments": {},
       "columnCustomDisplayInfos": {},
       "data": [
        [
         2,
         "Donna Ellis",
         "43599",
         "Adam Trail",
         "07204",
         "Port April",
         "Montana",
         "1000.00",
         59,
         "2025-03-14"
        ],
        [
         5,
         "Nicholas Thompson",
         "998",
         "Russell Shoals",
         "65647",
         "South Todd",
         "South Carolina",
         "3000.00",
         40,
         "2025-03-14"
        ],
        [
         7,
         "Trevor Harrington",
         "5960",
         "Lisa Port",
         "73881",
         "Loganbury",
         "New York",
         "2000.00",
         46,
         "2025-03-14"
        ],
        [
         8,
         "Seth Mitchell",
         "47352",
         "Stafford Loop",
         "01347",
         "South Alexander",
         "North Dakota",
         "3000.00",
         81,
         "2025-03-14"
        ],
        [
         9,
         "Patrick Caldwell",
         "0170",
         "Amanda Dam",
         "24885",
         "Port Mollyhaven",
         "Connecticut",
         "2000.00",
         52,
         "2025-03-14"
        ],
        [
         10,
         "Laura Hopkins",
         "143",
         "Lee Brook",
         "23623",
         "Jarvisland",
         "Hawaii",
         "100.00",
         54,
         "2025-03-14"
        ]
       ],
       "datasetInfos": [],
       "dbfsResultPath": null,
       "isJsonSchema": true,
       "metadata": {},
       "overflow": false,
       "plotOptions": {
        "customPlotOptions": {},
        "displayType": "table",
        "pivotAggregation": null,
        "pivotColumns": null,
        "xColumns": null,
        "yColumns": null
       },
       "removedWidgets": [],
       "schema": [
        {
         "metadata": "{}",
         "name": "client_number",
         "type": "\"integer\""
        },
        {
         "metadata": "{}",
         "name": "name",
         "type": "\"string\""
        },
        {
         "metadata": "{}",
         "name": "bulding_number",
         "type": "\"string\""
        },
        {
         "metadata": "{}",
         "name": "street_name",
         "type": "\"string\""
        },
        {
         "metadata": "{}",
         "name": "postcode",
         "type": "\"string\""
        },
        {
         "metadata": "{}",
         "name": "city",
         "type": "\"string\""
        },
        {
         "metadata": "{}",
         "name": "state",
         "type": "\"string\""
        },
        {
         "metadata": "{}",
         "name": "amount",
         "type": "\"decimal(10,2)\""
        },
        {
         "metadata": "{}",
         "name": "age",
         "type": "\"integer\""
        },
        {
         "metadata": "{}",
         "name": "load_date",
         "type": "\"date\""
        }
       ],
       "type": "table"
      }
     },
     "output_type": "display_data"
    },
    {
     "output_type": "display_data",
     "data": {
      "text/html": [
       "<style scoped>\n",
       "  .table-result-container {\n",
       "    max-height: 300px;\n",
       "    overflow: auto;\n",
       "  }\n",
       "  table, th, td {\n",
       "    border: 1px solid black;\n",
       "    border-collapse: collapse;\n",
       "  }\n",
       "  th, td {\n",
       "    padding: 5px;\n",
       "  }\n",
       "  th {\n",
       "    text-align: left;\n",
       "  }\n",
       "</style><div class='table-result-container'><table class='table-result'><thead style='background-color: white'><tr><th>client_number</th><th>name</th><th>bulding_number</th><th>street_name</th><th>postcode</th><th>city</th><th>state</th><th>amount</th><th>age</th><th>load_date</th></tr></thead><tbody><tr><td>2</td><td>Donna Ellis</td><td>43599</td><td>Adam Trail</td><td>07204</td><td>Port April</td><td>Montana</td><td>1000.00</td><td>59</td><td>2025-03-14</td></tr><tr><td>5</td><td>Nicholas Thompson</td><td>998</td><td>Russell Shoals</td><td>65647</td><td>South Todd</td><td>South Carolina</td><td>3000.00</td><td>40</td><td>2025-03-14</td></tr><tr><td>7</td><td>Trevor Harrington</td><td>5960</td><td>Lisa Port</td><td>73881</td><td>Loganbury</td><td>New York</td><td>2000.00</td><td>46</td><td>2025-03-14</td></tr><tr><td>8</td><td>Seth Mitchell</td><td>47352</td><td>Stafford Loop</td><td>01347</td><td>South Alexander</td><td>North Dakota</td><td>3000.00</td><td>81</td><td>2025-03-14</td></tr><tr><td>9</td><td>Patrick Caldwell</td><td>0170</td><td>Amanda Dam</td><td>24885</td><td>Port Mollyhaven</td><td>Connecticut</td><td>2000.00</td><td>52</td><td>2025-03-14</td></tr><tr><td>10</td><td>Laura Hopkins</td><td>143</td><td>Lee Brook</td><td>23623</td><td>Jarvisland</td><td>Hawaii</td><td>100.00</td><td>54</td><td>2025-03-14</td></tr></tbody></table></div>"
      ]
     },
     "metadata": {
      "application/vnd.databricks.v1+output": {
       "addedWidgets": {},
       "aggData": [],
       "aggError": "",
       "aggOverflow": false,
       "aggSchema": [],
       "aggSeriesLimitReached": false,
       "aggType": "",
       "arguments": {},
       "columnCustomDisplayInfos": {},
       "data": [
        [
         2,
         "Donna Ellis",
         "43599",
         "Adam Trail",
         "07204",
         "Port April",
         "Montana",
         "1000.00",
         59,
         "2025-03-14"
        ],
        [
         5,
         "Nicholas Thompson",
         "998",
         "Russell Shoals",
         "65647",
         "South Todd",
         "South Carolina",
         "3000.00",
         40,
         "2025-03-14"
        ],
        [
         7,
         "Trevor Harrington",
         "5960",
         "Lisa Port",
         "73881",
         "Loganbury",
         "New York",
         "2000.00",
         46,
         "2025-03-14"
        ],
        [
         8,
         "Seth Mitchell",
         "47352",
         "Stafford Loop",
         "01347",
         "South Alexander",
         "North Dakota",
         "3000.00",
         81,
         "2025-03-14"
        ],
        [
         9,
         "Patrick Caldwell",
         "0170",
         "Amanda Dam",
         "24885",
         "Port Mollyhaven",
         "Connecticut",
         "2000.00",
         52,
         "2025-03-14"
        ],
        [
         10,
         "Laura Hopkins",
         "143",
         "Lee Brook",
         "23623",
         "Jarvisland",
         "Hawaii",
         "100.00",
         54,
         "2025-03-14"
        ]
       ],
       "datasetInfos": [],
       "dbfsResultPath": null,
       "isJsonSchema": true,
       "metadata": {},
       "overflow": false,
       "plotOptions": {
        "customPlotOptions": {},
        "displayType": "table",
        "pivotAggregation": null,
        "pivotColumns": null,
        "xColumns": null,
        "yColumns": null
       },
       "removedWidgets": [],
       "schema": [
        {
         "metadata": "{}",
         "name": "client_number",
         "type": "\"integer\""
        },
        {
         "metadata": "{}",
         "name": "name",
         "type": "\"string\""
        },
        {
         "metadata": "{}",
         "name": "bulding_number",
         "type": "\"string\""
        },
        {
         "metadata": "{}",
         "name": "street_name",
         "type": "\"string\""
        },
        {
         "metadata": "{}",
         "name": "postcode",
         "type": "\"string\""
        },
        {
         "metadata": "{}",
         "name": "city",
         "type": "\"string\""
        },
        {
         "metadata": "{}",
         "name": "state",
         "type": "\"string\""
        },
        {
         "metadata": "{}",
         "name": "amount",
         "type": "\"decimal(10,2)\""
        },
        {
         "metadata": "{}",
         "name": "age",
         "type": "\"integer\""
        },
        {
         "metadata": "{}",
         "name": "load_date",
         "type": "\"date\""
        }
       ],
       "type": "table"
      }
     },
     "output_type": "display_data"
    }
   ],
   "source": [
    "display(df1.where(\"age >=30 and branch != 'WA' \"))\n",
    "display(df1.filter( (col(\"age\") >= 30) &  (col(\"branch\") != 'WA')))"
   ]
  },
  {
   "cell_type": "markdown",
   "metadata": {
    "application/vnd.databricks.v1+cell": {
     "cellMetadata": {},
     "inputWidgets": {},
     "nuid": "5ebfcdd9-5b50-412a-9673-90ca21041f0d",
     "showTitle": false,
     "tableResultSettingsMap": {},
     "title": ""
    }
   },
   "source": [
    "Grouping and Sorting\n",
    "Group by is a transformation operation in PySpark used to group the data in a Spark DataFrame based on specified columns. This operation is often followed by aggregating functions such as count(), sum(), avg(), etc., allowing for the summarization of grouped data.\n",
    "\n",
    "Order by, on the other hand, sorts records in a DataFrame based on specified sort conditions, allowing for the arrangement of data in ascending or descending order."
   ]
  },
  {
   "cell_type": "code",
   "execution_count": 0,
   "metadata": {
    "application/vnd.databricks.v1+cell": {
     "cellMetadata": {
      "byteLimit": 2048000,
      "rowLimit": 10000
     },
     "inputWidgets": {},
     "nuid": "724ffb75-559e-4af0-b32e-31b669a043b2",
     "showTitle": false,
     "tableResultSettingsMap": {},
     "title": ""
    }
   },
   "outputs": [
    {
     "output_type": "display_data",
     "data": {
      "text/html": [
       "<style scoped>\n",
       "  .table-result-container {\n",
       "    max-height: 300px;\n",
       "    overflow: auto;\n",
       "  }\n",
       "  table, th, td {\n",
       "    border: 1px solid black;\n",
       "    border-collapse: collapse;\n",
       "  }\n",
       "  th, td {\n",
       "    padding: 5px;\n",
       "  }\n",
       "  th {\n",
       "    text-align: left;\n",
       "  }\n",
       "</style><div class='table-result-container'><table class='table-result'><thead style='background-color: white'><tr><th>city</th><th>count</th></tr></thead><tbody><tr><td>Port April</td><td>1</td></tr><tr><td>Lake Joseborough</td><td>1</td></tr><tr><td>South Todd</td><td>1</td></tr><tr><td>West Erica</td><td>1</td></tr><tr><td>Loganbury</td><td>1</td></tr><tr><td>Jarvisland</td><td>1</td></tr><tr><td>Port Mollyhaven</td><td>1</td></tr><tr><td>North Miranda</td><td>1</td></tr><tr><td>Mcdanielhaven</td><td>1</td></tr><tr><td>South Alexander</td><td>1</td></tr></tbody></table></div>"
      ]
     },
     "metadata": {
      "application/vnd.databricks.v1+output": {
       "addedWidgets": {},
       "aggData": [],
       "aggError": "",
       "aggOverflow": false,
       "aggSchema": [],
       "aggSeriesLimitReached": false,
       "aggType": "",
       "arguments": {},
       "columnCustomDisplayInfos": {},
       "data": [
        [
         "Port April",
         1
        ],
        [
         "Lake Joseborough",
         1
        ],
        [
         "South Todd",
         1
        ],
        [
         "West Erica",
         1
        ],
        [
         "Loganbury",
         1
        ],
        [
         "Jarvisland",
         1
        ],
        [
         "Port Mollyhaven",
         1
        ],
        [
         "North Miranda",
         1
        ],
        [
         "Mcdanielhaven",
         1
        ],
        [
         "South Alexander",
         1
        ]
       ],
       "datasetInfos": [],
       "dbfsResultPath": null,
       "isJsonSchema": true,
       "metadata": {},
       "overflow": false,
       "plotOptions": {
        "customPlotOptions": {},
        "displayType": "table",
        "pivotAggregation": null,
        "pivotColumns": null,
        "xColumns": null,
        "yColumns": null
       },
       "removedWidgets": [],
       "schema": [
        {
         "metadata": "{}",
         "name": "city",
         "type": "\"string\""
        },
        {
         "metadata": "{}",
         "name": "count",
         "type": "\"long\""
        }
       ],
       "type": "table"
      }
     },
     "output_type": "display_data"
    }
   ],
   "source": [
    "from pyspark.sql.functions import desc, count, sum\n",
    "\n",
    "# count by brnahc\n",
    "display(df1.groupBy(\"city\").count().orderBy(desc(\"count\")))\n",
    "    "
   ]
  },
  {
   "cell_type": "code",
   "execution_count": 0,
   "metadata": {
    "application/vnd.databricks.v1+cell": {
     "cellMetadata": {
      "byteLimit": 2048000,
      "rowLimit": 10000
     },
     "inputWidgets": {},
     "nuid": "4990635d-95d5-4cfa-a054-2b0af5fa8246",
     "showTitle": false,
     "tableResultSettingsMap": {},
     "title": ""
    }
   },
   "outputs": [
    {
     "output_type": "display_data",
     "data": {
      "text/html": [
       "<style scoped>\n",
       "  .table-result-container {\n",
       "    max-height: 300px;\n",
       "    overflow: auto;\n",
       "  }\n",
       "  table, th, td {\n",
       "    border: 1px solid black;\n",
       "    border-collapse: collapse;\n",
       "  }\n",
       "  th, td {\n",
       "    padding: 5px;\n",
       "  }\n",
       "  th {\n",
       "    text-align: left;\n",
       "  }\n",
       "</style><div class='table-result-container'><table class='table-result'><thead style='background-color: white'><tr><th>state</th><th>state_amount</th><th>noofclients</th></tr></thead><tbody><tr><td>New York</td><td>6000.00</td><td>2</td></tr><tr><td>Delaware</td><td>1000.00</td><td>1</td></tr><tr><td>Washington</td><td>1000.00</td><td>1</td></tr><tr><td>North Dakota</td><td>3000.00</td><td>1</td></tr><tr><td>Montana</td><td>1000.00</td><td>1</td></tr><tr><td>Maryland</td><td>2000.00</td><td>1</td></tr><tr><td>South Carolina</td><td>3000.00</td><td>1</td></tr><tr><td>Hawaii</td><td>100.00</td><td>1</td></tr><tr><td>Connecticut</td><td>2000.00</td><td>1</td></tr></tbody></table></div>"
      ]
     },
     "metadata": {
      "application/vnd.databricks.v1+output": {
       "addedWidgets": {},
       "aggData": [],
       "aggError": "",
       "aggOverflow": false,
       "aggSchema": [],
       "aggSeriesLimitReached": false,
       "aggType": "",
       "arguments": {},
       "columnCustomDisplayInfos": {},
       "data": [
        [
         "New York",
         "6000.00",
         2
        ],
        [
         "Delaware",
         "1000.00",
         1
        ],
        [
         "Washington",
         "1000.00",
         1
        ],
        [
         "North Dakota",
         "3000.00",
         1
        ],
        [
         "Montana",
         "1000.00",
         1
        ],
        [
         "Maryland",
         "2000.00",
         1
        ],
        [
         "South Carolina",
         "3000.00",
         1
        ],
        [
         "Hawaii",
         "100.00",
         1
        ],
        [
         "Connecticut",
         "2000.00",
         1
        ]
       ],
       "datasetInfos": [],
       "dbfsResultPath": null,
       "isJsonSchema": true,
       "metadata": {},
       "overflow": false,
       "plotOptions": {
        "customPlotOptions": {},
        "displayType": "table",
        "pivotAggregation": null,
        "pivotColumns": null,
        "xColumns": null,
        "yColumns": null
       },
       "removedWidgets": [],
       "schema": [
        {
         "metadata": "{}",
         "name": "state",
         "type": "\"string\""
        },
        {
         "metadata": "{}",
         "name": "state_amount",
         "type": "\"decimal(20,2)\""
        },
        {
         "metadata": "{}",
         "name": "noofclients",
         "type": "\"long\""
        }
       ],
       "type": "table"
      }
     },
     "output_type": "display_data"
    }
   ],
   "source": [
    "# sum, count by branch with order by client_number count\n",
    "display(df1.groupBy(\"state\").agg( \n",
    "sum(\"amount\").alias(\"state_amount\"), count(\"client_number\").alias(\"noofclients\") \n",
    ").orderBy(desc(\"noofclients\")))"
   ]
  },
  {
   "cell_type": "code",
   "execution_count": 0,
   "metadata": {
    "application/vnd.databricks.v1+cell": {
     "cellMetadata": {
      "byteLimit": 2048000,
      "rowLimit": 10000
     },
     "inputWidgets": {},
     "nuid": "fab00ba7-7eb4-4e71-ae72-8f9d0762e055",
     "showTitle": false,
     "tableResultSettingsMap": {},
     "title": ""
    }
   },
   "outputs": [
    {
     "output_type": "stream",
     "name": "stdout",
     "output_type": "stream",
     "text": [
      "+--------------+------+-----------------+\n|         state|amount|noofclient_number|\n+--------------+------+-----------------+\n|       Montana|1000.0|                1|\n|      Maryland|2000.0|                1|\n|South Carolina|3000.0|                1|\n|      New York|6000.0|                2|\n|        Hawaii| 100.0|                1|\n|   Connecticut|2000.0|                1|\n|      Delaware|1000.0|                1|\n|    Washington|1000.0|                1|\n|  North Dakota|3000.0|                1|\n+--------------+------+-----------------+\n\n"
     ]
    }
   ],
   "source": [
    "df.createOrReplaceTempView(\"client\")\n",
    "df1 = spark.sql(\"\"\"\n",
    "               select\n",
    "                state,\n",
    "                sum(amout) amount,\n",
    "                count(client_number) noofclient_number\n",
    "\n",
    "               from\n",
    "               client\n",
    "               group by state\n",
    "               \"\"\")\n",
    "\n",
    "df1.show()"
   ]
  },
  {
   "cell_type": "markdown",
   "metadata": {
    "application/vnd.databricks.v1+cell": {
     "cellMetadata": {},
     "inputWidgets": {},
     "nuid": "cdb6d302-809e-4251-a10b-62110185b242",
     "showTitle": false,
     "tableResultSettingsMap": {},
     "title": ""
    }
   },
   "source": [
    "Joining DataFrames\n",
    "Joining operations are crucial for various data processing tasks such as data normalization, data modeling, and ensuring data quality. Spark supports joins using DataFrame join and SQL joins.\n",
    "\n",
    "To demonstrate the join operation, we need an additional DataFrame. I’ll create it similarly so you can easily replicate my steps, or you can load data from a file or table."
   ]
  },
  {
   "cell_type": "code",
   "execution_count": 0,
   "metadata": {
    "application/vnd.databricks.v1+cell": {
     "cellMetadata": {
      "byteLimit": 2048000,
      "rowLimit": 10000
     },
     "inputWidgets": {},
     "nuid": "67999e37-9f3e-4bef-ae3b-dc0084beabfa",
     "showTitle": false,
     "tableResultSettingsMap": {},
     "title": ""
    }
   },
   "outputs": [
    {
     "output_type": "display_data",
     "data": {
      "text/html": [
       "<style scoped>\n",
       "  .table-result-container {\n",
       "    max-height: 300px;\n",
       "    overflow: auto;\n",
       "  }\n",
       "  table, th, td {\n",
       "    border: 1px solid black;\n",
       "    border-collapse: collapse;\n",
       "  }\n",
       "  th, td {\n",
       "    padding: 5px;\n",
       "  }\n",
       "  th {\n",
       "    text-align: left;\n",
       "  }\n",
       "</style><div class='table-result-container'><table class='table-result'><thead style='background-color: white'><tr><th>id</th><th>client_id</th><th>value</th><th>tran_date</th></tr></thead><tbody><tr><td>fb0bc3f9-61d8-44d6-b9bb-ee9279c9020c</td><td>1</td><td>100.0</td><td>2024-02-01</td></tr><tr><td>26076af0-d8dc-46ff-bb2c-aece0703ee21</td><td>1</td><td>200.0</td><td>2024-02-03</td></tr><tr><td>a71b6a75-c5e5-429c-8946-8df996d0657e</td><td>1</td><td>130.0</td><td>2024-02-04</td></tr><tr><td>a7fa903a-0e61-437c-b7f9-1987c834260a</td><td>2</td><td>110.0</td><td>2024-02-05</td></tr><tr><td>59661f8e-6cb2-403d-9b28-d3eac5c97375</td><td>3</td><td>200.0</td><td>2024-02-01</td></tr><tr><td>9aa2c49f-3f26-42b6-b63c-518f0f06711a</td><td>2</td><td>300.0</td><td>2024-02-02</td></tr><tr><td>86ddb0bf-d020-4803-8035-c35ae320cfac</td><td>2</td><td>50.0</td><td>2024-02-03</td></tr></tbody></table></div>"
      ]
     },
     "metadata": {
      "application/vnd.databricks.v1+output": {
       "addedWidgets": {},
       "aggData": [],
       "aggError": "",
       "aggOverflow": false,
       "aggSchema": [],
       "aggSeriesLimitReached": false,
       "aggType": "",
       "arguments": {},
       "columnCustomDisplayInfos": {},
       "data": [
        [
         "fb0bc3f9-61d8-44d6-b9bb-ee9279c9020c",
         1,
         100.0,
         "2024-02-01"
        ],
        [
         "26076af0-d8dc-46ff-bb2c-aece0703ee21",
         1,
         200.0,
         "2024-02-03"
        ],
        [
         "a71b6a75-c5e5-429c-8946-8df996d0657e",
         1,
         130.0,
         "2024-02-04"
        ],
        [
         "a7fa903a-0e61-437c-b7f9-1987c834260a",
         2,
         110.0,
         "2024-02-05"
        ],
        [
         "59661f8e-6cb2-403d-9b28-d3eac5c97375",
         3,
         200.0,
         "2024-02-01"
        ],
        [
         "9aa2c49f-3f26-42b6-b63c-518f0f06711a",
         2,
         300.0,
         "2024-02-02"
        ],
        [
         "86ddb0bf-d020-4803-8035-c35ae320cfac",
         2,
         50.0,
         "2024-02-03"
        ]
       ],
       "datasetInfos": [],
       "dbfsResultPath": null,
       "isJsonSchema": true,
       "metadata": {},
       "overflow": false,
       "plotOptions": {
        "customPlotOptions": {},
        "displayType": "table",
        "pivotAggregation": null,
        "pivotColumns": null,
        "xColumns": null,
        "yColumns": null
       },
       "removedWidgets": [],
       "schema": [
        {
         "metadata": "{}",
         "name": "id",
         "type": "\"string\""
        },
        {
         "metadata": "{}",
         "name": "client_id",
         "type": "\"integer\""
        },
        {
         "metadata": "{}",
         "name": "value",
         "type": "\"double\""
        },
        {
         "metadata": "{}",
         "name": "tran_date",
         "type": "\"string\""
        }
       ],
       "type": "table"
      }
     },
     "output_type": "display_data"
    }
   ],
   "source": [
    "import uuid\n",
    "trans = [\n",
    "    [str(uuid.uuid4()), 1, 100.00, '2024-02-01'],\n",
    "    [str(uuid.uuid4()), 1, 200.00, '2024-02-03'],\n",
    "    [str(uuid.uuid4()), 1, 130.00, '2024-02-04'],\n",
    "    [str(uuid.uuid4()), 2, 110.00, '2024-02-05'],\n",
    "    [str(uuid.uuid4()), 3, 200.00, '2024-02-01'],\n",
    "    [str(uuid.uuid4()), 2, 300.00, '2024-02-02'],\n",
    "    [str(uuid.uuid4()), 2, 50.00, '2024-02-03'],\n",
    "\n",
    "]\n",
    "\n",
    "schama = \"id string, client_id int, value double, tran_date string\"\n",
    "df_tran = spark.createDataFrame(trans, schama)\n",
    "display(df_tran)"
   ]
  },
  {
   "cell_type": "markdown",
   "metadata": {
    "application/vnd.databricks.v1+cell": {
     "cellMetadata": {},
     "inputWidgets": {},
     "nuid": "af7ec566-ebec-4068-8da9-859d90be01b1",
     "showTitle": false,
     "tableResultSettingsMap": {},
     "title": ""
    }
   },
   "source": [
    "The code below illustrates how to join two DataFrames. Spark supports various join types, including:\n",
    "\n",
    "Inner Join\n",
    "Left / Left Outer Join\n",
    "Right / Right Outer Join\n",
    "Outer / Full Join\n",
    "Cross Join\n",
    "Left Anti Join\n",
    "Left Semi Join"
   ]
  },
  {
   "cell_type": "code",
   "execution_count": 0,
   "metadata": {
    "application/vnd.databricks.v1+cell": {
     "cellMetadata": {
      "byteLimit": 2048000,
      "rowLimit": 10000
     },
     "inputWidgets": {},
     "nuid": "fe1469fc-db34-44b8-82e9-416079273d13",
     "showTitle": false,
     "tableResultSettingsMap": {},
     "title": ""
    }
   },
   "outputs": [
    {
     "output_type": "display_data",
     "data": {
      "text/html": [
       "<style scoped>\n",
       "  .table-result-container {\n",
       "    max-height: 300px;\n",
       "    overflow: auto;\n",
       "  }\n",
       "  table, th, td {\n",
       "    border: 1px solid black;\n",
       "    border-collapse: collapse;\n",
       "  }\n",
       "  th, td {\n",
       "    padding: 5px;\n",
       "  }\n",
       "  th {\n",
       "    text-align: left;\n",
       "  }\n",
       "</style><div class='table-result-container'><table class='table-result'><thead style='background-color: white'><tr><th>client_number</th><th>name</th><th>branch</th><th>phone_number</th><th>bulding_number</th><th>street_name</th><th>postcode</th><th>city</th><th>state</th><th>birth_date</th><th>credit_card_number</th><th>amout</th><th>id</th><th>client_id</th><th>value</th><th>tran_date</th></tr></thead><tbody><tr><td>1</td><td>Alicia Kaiser</td><td>WA</td><td>001-677-774-4370</td><td>13714</td><td>Stacy Summit</td><td>54799</td><td>Lake Joseborough</td><td>Delaware</td><td>1939-04-07</td><td>2656508165701512</td><td>1000.00</td><td>fb0bc3f9-61d8-44d6-b9bb-ee9279c9020c</td><td>1</td><td>100.0</td><td>2024-02-01</td></tr><tr><td>1</td><td>Alicia Kaiser</td><td>WA</td><td>001-677-774-4370</td><td>13714</td><td>Stacy Summit</td><td>54799</td><td>Lake Joseborough</td><td>Delaware</td><td>1939-04-07</td><td>2656508165701512</td><td>1000.00</td><td>a71b6a75-c5e5-429c-8946-8df996d0657e</td><td>1</td><td>130.0</td><td>2024-02-04</td></tr><tr><td>1</td><td>Alicia Kaiser</td><td>WA</td><td>001-677-774-4370</td><td>13714</td><td>Stacy Summit</td><td>54799</td><td>Lake Joseborough</td><td>Delaware</td><td>1939-04-07</td><td>2656508165701512</td><td>1000.00</td><td>26076af0-d8dc-46ff-bb2c-aece0703ee21</td><td>1</td><td>200.0</td><td>2024-02-03</td></tr><tr><td>2</td><td>Donna Ellis</td><td>BR</td><td>001-631-995-8008</td><td>43599</td><td>Adam Trail</td><td>07204</td><td>Port April</td><td>Montana</td><td>1966-07-28</td><td>5527331190171381</td><td>1000.00</td><td>86ddb0bf-d020-4803-8035-c35ae320cfac</td><td>2</td><td>50.0</td><td>2024-02-03</td></tr><tr><td>2</td><td>Donna Ellis</td><td>BR</td><td>001-631-995-8008</td><td>43599</td><td>Adam Trail</td><td>07204</td><td>Port April</td><td>Montana</td><td>1966-07-28</td><td>5527331190171381</td><td>1000.00</td><td>a7fa903a-0e61-437c-b7f9-1987c834260a</td><td>2</td><td>110.0</td><td>2024-02-05</td></tr><tr><td>2</td><td>Donna Ellis</td><td>BR</td><td>001-631-995-8008</td><td>43599</td><td>Adam Trail</td><td>07204</td><td>Port April</td><td>Montana</td><td>1966-07-28</td><td>5527331190171381</td><td>1000.00</td><td>9aa2c49f-3f26-42b6-b63c-518f0f06711a</td><td>2</td><td>300.0</td><td>2024-02-02</td></tr><tr><td>3</td><td>Kenneth Smith</td><td>WA</td><td>001-592-849-6009x4173</td><td>649</td><td>Sherri Grove</td><td>14527</td><td>North Miranda</td><td>Washington</td><td>1998-09-25</td><td>5366314062583069</td><td>1000.00</td><td>59661f8e-6cb2-403d-9b28-d3eac5c97375</td><td>3</td><td>200.0</td><td>2024-02-01</td></tr></tbody></table></div>"
      ]
     },
     "metadata": {
      "application/vnd.databricks.v1+output": {
       "addedWidgets": {},
       "aggData": [],
       "aggError": "",
       "aggOverflow": false,
       "aggSchema": [],
       "aggSeriesLimitReached": false,
       "aggType": "",
       "arguments": {},
       "columnCustomDisplayInfos": {},
       "data": [
        [
         1,
         "Alicia Kaiser",
         "WA",
         "001-677-774-4370",
         "13714",
         "Stacy Summit",
         "54799",
         "Lake Joseborough",
         "Delaware",
         "1939-04-07",
         "2656508165701512",
         "1000.00",
         "fb0bc3f9-61d8-44d6-b9bb-ee9279c9020c",
         1,
         100.0,
         "2024-02-01"
        ],
        [
         1,
         "Alicia Kaiser",
         "WA",
         "001-677-774-4370",
         "13714",
         "Stacy Summit",
         "54799",
         "Lake Joseborough",
         "Delaware",
         "1939-04-07",
         "2656508165701512",
         "1000.00",
         "a71b6a75-c5e5-429c-8946-8df996d0657e",
         1,
         130.0,
         "2024-02-04"
        ],
        [
         1,
         "Alicia Kaiser",
         "WA",
         "001-677-774-4370",
         "13714",
         "Stacy Summit",
         "54799",
         "Lake Joseborough",
         "Delaware",
         "1939-04-07",
         "2656508165701512",
         "1000.00",
         "26076af0-d8dc-46ff-bb2c-aece0703ee21",
         1,
         200.0,
         "2024-02-03"
        ],
        [
         2,
         "Donna Ellis",
         "BR",
         "001-631-995-8008",
         "43599",
         "Adam Trail",
         "07204",
         "Port April",
         "Montana",
         "1966-07-28",
         "5527331190171381",
         "1000.00",
         "86ddb0bf-d020-4803-8035-c35ae320cfac",
         2,
         50.0,
         "2024-02-03"
        ],
        [
         2,
         "Donna Ellis",
         "BR",
         "001-631-995-8008",
         "43599",
         "Adam Trail",
         "07204",
         "Port April",
         "Montana",
         "1966-07-28",
         "5527331190171381",
         "1000.00",
         "a7fa903a-0e61-437c-b7f9-1987c834260a",
         2,
         110.0,
         "2024-02-05"
        ],
        [
         2,
         "Donna Ellis",
         "BR",
         "001-631-995-8008",
         "43599",
         "Adam Trail",
         "07204",
         "Port April",
         "Montana",
         "1966-07-28",
         "5527331190171381",
         "1000.00",
         "9aa2c49f-3f26-42b6-b63c-518f0f06711a",
         2,
         300.0,
         "2024-02-02"
        ],
        [
         3,
         "Kenneth Smith",
         "WA",
         "001-592-849-6009x4173",
         "649",
         "Sherri Grove",
         "14527",
         "North Miranda",
         "Washington",
         "1998-09-25",
         "5366314062583069",
         "1000.00",
         "59661f8e-6cb2-403d-9b28-d3eac5c97375",
         3,
         200.0,
         "2024-02-01"
        ]
       ],
       "datasetInfos": [],
       "dbfsResultPath": null,
       "isJsonSchema": true,
       "metadata": {},
       "overflow": false,
       "plotOptions": {
        "customPlotOptions": {},
        "displayType": "table",
        "pivotAggregation": null,
        "pivotColumns": null,
        "xColumns": null,
        "yColumns": null
       },
       "removedWidgets": [],
       "schema": [
        {
         "metadata": "{}",
         "name": "client_number",
         "type": "\"integer\""
        },
        {
         "metadata": "{}",
         "name": "name",
         "type": "\"string\""
        },
        {
         "metadata": "{}",
         "name": "branch",
         "type": "\"string\""
        },
        {
         "metadata": "{}",
         "name": "phone_number",
         "type": "\"string\""
        },
        {
         "metadata": "{}",
         "name": "bulding_number",
         "type": "\"string\""
        },
        {
         "metadata": "{}",
         "name": "street_name",
         "type": "\"string\""
        },
        {
         "metadata": "{}",
         "name": "postcode",
         "type": "\"string\""
        },
        {
         "metadata": "{}",
         "name": "city",
         "type": "\"string\""
        },
        {
         "metadata": "{}",
         "name": "state",
         "type": "\"string\""
        },
        {
         "metadata": "{}",
         "name": "birth_date",
         "type": "\"string\""
        },
        {
         "metadata": "{}",
         "name": "credit_card_number",
         "type": "\"string\""
        },
        {
         "metadata": "{}",
         "name": "amout",
         "type": "\"string\""
        },
        {
         "metadata": "{}",
         "name": "id",
         "type": "\"string\""
        },
        {
         "metadata": "{}",
         "name": "client_id",
         "type": "\"integer\""
        },
        {
         "metadata": "{}",
         "name": "value",
         "type": "\"double\""
        },
        {
         "metadata": "{}",
         "name": "tran_date",
         "type": "\"string\""
        }
       ],
       "type": "table"
      }
     },
     "output_type": "display_data"
    },
    {
     "output_type": "display_data",
     "data": {
      "text/html": [
       "<style scoped>\n",
       "  .table-result-container {\n",
       "    max-height: 300px;\n",
       "    overflow: auto;\n",
       "  }\n",
       "  table, th, td {\n",
       "    border: 1px solid black;\n",
       "    border-collapse: collapse;\n",
       "  }\n",
       "  th, td {\n",
       "    padding: 5px;\n",
       "  }\n",
       "  th {\n",
       "    text-align: left;\n",
       "  }\n",
       "</style><div class='table-result-container'><table class='table-result'><thead style='background-color: white'><tr><th>client_number</th><th>name</th><th>branch</th><th>phone_number</th><th>bulding_number</th><th>street_name</th><th>postcode</th><th>city</th><th>state</th><th>birth_date</th><th>credit_card_number</th><th>amout</th><th>id</th><th>client_id</th><th>value</th><th>tran_date</th></tr></thead><tbody><tr><td>1</td><td>Alicia Kaiser</td><td>WA</td><td>001-677-774-4370</td><td>13714</td><td>Stacy Summit</td><td>54799</td><td>Lake Joseborough</td><td>Delaware</td><td>1939-04-07</td><td>2656508165701512</td><td>1000.00</td><td>fb0bc3f9-61d8-44d6-b9bb-ee9279c9020c</td><td>1</td><td>100.0</td><td>2024-02-01</td></tr><tr><td>1</td><td>Alicia Kaiser</td><td>WA</td><td>001-677-774-4370</td><td>13714</td><td>Stacy Summit</td><td>54799</td><td>Lake Joseborough</td><td>Delaware</td><td>1939-04-07</td><td>2656508165701512</td><td>1000.00</td><td>26076af0-d8dc-46ff-bb2c-aece0703ee21</td><td>1</td><td>200.0</td><td>2024-02-03</td></tr><tr><td>1</td><td>Alicia Kaiser</td><td>WA</td><td>001-677-774-4370</td><td>13714</td><td>Stacy Summit</td><td>54799</td><td>Lake Joseborough</td><td>Delaware</td><td>1939-04-07</td><td>2656508165701512</td><td>1000.00</td><td>a71b6a75-c5e5-429c-8946-8df996d0657e</td><td>1</td><td>130.0</td><td>2024-02-04</td></tr><tr><td>2</td><td>Donna Ellis</td><td>BR</td><td>001-631-995-8008</td><td>43599</td><td>Adam Trail</td><td>07204</td><td>Port April</td><td>Montana</td><td>1966-07-28</td><td>5527331190171381</td><td>1000.00</td><td>9aa2c49f-3f26-42b6-b63c-518f0f06711a</td><td>2</td><td>300.0</td><td>2024-02-02</td></tr><tr><td>2</td><td>Donna Ellis</td><td>BR</td><td>001-631-995-8008</td><td>43599</td><td>Adam Trail</td><td>07204</td><td>Port April</td><td>Montana</td><td>1966-07-28</td><td>5527331190171381</td><td>1000.00</td><td>86ddb0bf-d020-4803-8035-c35ae320cfac</td><td>2</td><td>50.0</td><td>2024-02-03</td></tr><tr><td>2</td><td>Donna Ellis</td><td>BR</td><td>001-631-995-8008</td><td>43599</td><td>Adam Trail</td><td>07204</td><td>Port April</td><td>Montana</td><td>1966-07-28</td><td>5527331190171381</td><td>1000.00</td><td>a7fa903a-0e61-437c-b7f9-1987c834260a</td><td>2</td><td>110.0</td><td>2024-02-05</td></tr><tr><td>3</td><td>Kenneth Smith</td><td>WA</td><td>001-592-849-6009x4173</td><td>649</td><td>Sherri Grove</td><td>14527</td><td>North Miranda</td><td>Washington</td><td>1998-09-25</td><td>5366314062583069</td><td>1000.00</td><td>59661f8e-6cb2-403d-9b28-d3eac5c97375</td><td>3</td><td>200.0</td><td>2024-02-01</td></tr></tbody></table></div>"
      ]
     },
     "metadata": {
      "application/vnd.databricks.v1+output": {
       "addedWidgets": {},
       "aggData": [],
       "aggError": "",
       "aggOverflow": false,
       "aggSchema": [],
       "aggSeriesLimitReached": false,
       "aggType": "",
       "arguments": {},
       "columnCustomDisplayInfos": {},
       "data": [
        [
         1,
         "Alicia Kaiser",
         "WA",
         "001-677-774-4370",
         "13714",
         "Stacy Summit",
         "54799",
         "Lake Joseborough",
         "Delaware",
         "1939-04-07",
         "2656508165701512",
         "1000.00",
         "fb0bc3f9-61d8-44d6-b9bb-ee9279c9020c",
         1,
         100.0,
         "2024-02-01"
        ],
        [
         1,
         "Alicia Kaiser",
         "WA",
         "001-677-774-4370",
         "13714",
         "Stacy Summit",
         "54799",
         "Lake Joseborough",
         "Delaware",
         "1939-04-07",
         "2656508165701512",
         "1000.00",
         "26076af0-d8dc-46ff-bb2c-aece0703ee21",
         1,
         200.0,
         "2024-02-03"
        ],
        [
         1,
         "Alicia Kaiser",
         "WA",
         "001-677-774-4370",
         "13714",
         "Stacy Summit",
         "54799",
         "Lake Joseborough",
         "Delaware",
         "1939-04-07",
         "2656508165701512",
         "1000.00",
         "a71b6a75-c5e5-429c-8946-8df996d0657e",
         1,
         130.0,
         "2024-02-04"
        ],
        [
         2,
         "Donna Ellis",
         "BR",
         "001-631-995-8008",
         "43599",
         "Adam Trail",
         "07204",
         "Port April",
         "Montana",
         "1966-07-28",
         "5527331190171381",
         "1000.00",
         "9aa2c49f-3f26-42b6-b63c-518f0f06711a",
         2,
         300.0,
         "2024-02-02"
        ],
        [
         2,
         "Donna Ellis",
         "BR",
         "001-631-995-8008",
         "43599",
         "Adam Trail",
         "07204",
         "Port April",
         "Montana",
         "1966-07-28",
         "5527331190171381",
         "1000.00",
         "86ddb0bf-d020-4803-8035-c35ae320cfac",
         2,
         50.0,
         "2024-02-03"
        ],
        [
         2,
         "Donna Ellis",
         "BR",
         "001-631-995-8008",
         "43599",
         "Adam Trail",
         "07204",
         "Port April",
         "Montana",
         "1966-07-28",
         "5527331190171381",
         "1000.00",
         "a7fa903a-0e61-437c-b7f9-1987c834260a",
         2,
         110.0,
         "2024-02-05"
        ],
        [
         3,
         "Kenneth Smith",
         "WA",
         "001-592-849-6009x4173",
         "649",
         "Sherri Grove",
         "14527",
         "North Miranda",
         "Washington",
         "1998-09-25",
         "5366314062583069",
         "1000.00",
         "59661f8e-6cb2-403d-9b28-d3eac5c97375",
         3,
         200.0,
         "2024-02-01"
        ]
       ],
       "datasetInfos": [],
       "dbfsResultPath": null,
       "isJsonSchema": true,
       "metadata": {},
       "overflow": false,
       "plotOptions": {
        "customPlotOptions": {},
        "displayType": "table",
        "pivotAggregation": null,
        "pivotColumns": null,
        "xColumns": null,
        "yColumns": null
       },
       "removedWidgets": [],
       "schema": [
        {
         "metadata": "{}",
         "name": "client_number",
         "type": "\"integer\""
        },
        {
         "metadata": "{}",
         "name": "name",
         "type": "\"string\""
        },
        {
         "metadata": "{}",
         "name": "branch",
         "type": "\"string\""
        },
        {
         "metadata": "{}",
         "name": "phone_number",
         "type": "\"string\""
        },
        {
         "metadata": "{}",
         "name": "bulding_number",
         "type": "\"string\""
        },
        {
         "metadata": "{}",
         "name": "street_name",
         "type": "\"string\""
        },
        {
         "metadata": "{}",
         "name": "postcode",
         "type": "\"string\""
        },
        {
         "metadata": "{}",
         "name": "city",
         "type": "\"string\""
        },
        {
         "metadata": "{}",
         "name": "state",
         "type": "\"string\""
        },
        {
         "metadata": "{}",
         "name": "birth_date",
         "type": "\"string\""
        },
        {
         "metadata": "{}",
         "name": "credit_card_number",
         "type": "\"string\""
        },
        {
         "metadata": "{}",
         "name": "amout",
         "type": "\"string\""
        },
        {
         "metadata": "{}",
         "name": "id",
         "type": "\"string\""
        },
        {
         "metadata": "{}",
         "name": "client_id",
         "type": "\"integer\""
        },
        {
         "metadata": "{}",
         "name": "value",
         "type": "\"double\""
        },
        {
         "metadata": "{}",
         "name": "tran_date",
         "type": "\"string\""
        }
       ],
       "type": "table"
      }
     },
     "output_type": "display_data"
    }
   ],
   "source": [
    "# column name index style\n",
    "display(df.join(df_tran, df['client_number'] == df_tran['client_id'], 'inner'))\n",
    "\n",
    "# column name property style\n",
    "display(df.join(df_tran, df.client_number == df_tran.client_id, 'inner'))"
   ]
  },
  {
   "cell_type": "code",
   "execution_count": 0,
   "metadata": {
    "application/vnd.databricks.v1+cell": {
     "cellMetadata": {
      "byteLimit": 2048000,
      "rowLimit": 10000
     },
     "inputWidgets": {},
     "nuid": "0d5aca6e-9aa7-4a08-b41c-2c7edad357a5",
     "showTitle": false,
     "tableResultSettingsMap": {},
     "title": ""
    }
   },
   "outputs": [
    {
     "output_type": "display_data",
     "data": {
      "text/html": [
       "<style scoped>\n",
       "  .table-result-container {\n",
       "    max-height: 300px;\n",
       "    overflow: auto;\n",
       "  }\n",
       "  table, th, td {\n",
       "    border: 1px solid black;\n",
       "    border-collapse: collapse;\n",
       "  }\n",
       "  th, td {\n",
       "    padding: 5px;\n",
       "  }\n",
       "  th {\n",
       "    text-align: left;\n",
       "  }\n",
       "</style><div class='table-result-container'><table class='table-result'><thead style='background-color: white'><tr><th>client_number</th></tr></thead><tbody><tr><td>4</td></tr><tr><td>5</td></tr><tr><td>6</td></tr><tr><td>7</td></tr><tr><td>8</td></tr><tr><td>9</td></tr><tr><td>10</td></tr></tbody></table></div>"
      ]
     },
     "metadata": {
      "application/vnd.databricks.v1+output": {
       "addedWidgets": {},
       "aggData": [],
       "aggError": "",
       "aggOverflow": false,
       "aggSchema": [],
       "aggSeriesLimitReached": false,
       "aggType": "",
       "arguments": {},
       "columnCustomDisplayInfos": {},
       "data": [
        [
         4
        ],
        [
         5
        ],
        [
         6
        ],
        [
         7
        ],
        [
         8
        ],
        [
         9
        ],
        [
         10
        ]
       ],
       "datasetInfos": [],
       "dbfsResultPath": null,
       "isJsonSchema": true,
       "metadata": {},
       "overflow": false,
       "plotOptions": {
        "customPlotOptions": {},
        "displayType": "table",
        "pivotAggregation": null,
        "pivotColumns": null,
        "xColumns": null,
        "yColumns": null
       },
       "removedWidgets": [],
       "schema": [
        {
         "metadata": "{}",
         "name": "client_number",
         "type": "\"integer\""
        }
       ],
       "type": "table"
      }
     },
     "output_type": "display_data"
    }
   ],
   "source": [
    "# - Left Anti join: Retrieves records from the left DataFrame that do not exist in the right DataFrame.\n",
    "display(df.join(df_tran, df['client_number'] == df_tran['client_id'], 'left_anti').select(\"client_number\"))\n"
   ]
  },
  {
   "cell_type": "code",
   "execution_count": 0,
   "metadata": {
    "application/vnd.databricks.v1+cell": {
     "cellMetadata": {
      "byteLimit": 2048000,
      "rowLimit": 10000
     },
     "inputWidgets": {},
     "nuid": "d253955b-f3c0-4386-bae6-cf98d3ffe108",
     "showTitle": false,
     "tableResultSettingsMap": {},
     "title": ""
    }
   },
   "outputs": [
    {
     "output_type": "display_data",
     "data": {
      "text/html": [
       "<style scoped>\n",
       "  .table-result-container {\n",
       "    max-height: 300px;\n",
       "    overflow: auto;\n",
       "  }\n",
       "  table, th, td {\n",
       "    border: 1px solid black;\n",
       "    border-collapse: collapse;\n",
       "  }\n",
       "  th, td {\n",
       "    padding: 5px;\n",
       "  }\n",
       "  th {\n",
       "    text-align: left;\n",
       "  }\n",
       "</style><div class='table-result-container'><table class='table-result'><thead style='background-color: white'><tr><th>client_number</th><th>name</th><th>branch</th><th>phone_number</th><th>bulding_number</th><th>street_name</th><th>postcode</th><th>city</th><th>state</th><th>birth_date</th><th>credit_card_number</th><th>amout</th></tr></thead><tbody><tr><td>1</td><td>Alicia Kaiser</td><td>WA</td><td>001-677-774-4370</td><td>13714</td><td>Stacy Summit</td><td>54799</td><td>Lake Joseborough</td><td>Delaware</td><td>1939-04-07</td><td>2656508165701512</td><td>1000.00</td></tr><tr><td>2</td><td>Donna Ellis</td><td>BR</td><td>001-631-995-8008</td><td>43599</td><td>Adam Trail</td><td>07204</td><td>Port April</td><td>Montana</td><td>1966-07-28</td><td>5527331190171381</td><td>1000.00</td></tr><tr><td>3</td><td>Kenneth Smith</td><td>WA</td><td>001-592-849-6009x4173</td><td>649</td><td>Sherri Grove</td><td>14527</td><td>North Miranda</td><td>Washington</td><td>1998-09-25</td><td>5366314062583069</td><td>1000.00</td></tr></tbody></table></div>"
      ]
     },
     "metadata": {
      "application/vnd.databricks.v1+output": {
       "addedWidgets": {},
       "aggData": [],
       "aggError": "",
       "aggOverflow": false,
       "aggSchema": [],
       "aggSeriesLimitReached": false,
       "aggType": "",
       "arguments": {},
       "columnCustomDisplayInfos": {},
       "data": [
        [
         1,
         "Alicia Kaiser",
         "WA",
         "001-677-774-4370",
         "13714",
         "Stacy Summit",
         "54799",
         "Lake Joseborough",
         "Delaware",
         "1939-04-07",
         "2656508165701512",
         "1000.00"
        ],
        [
         2,
         "Donna Ellis",
         "BR",
         "001-631-995-8008",
         "43599",
         "Adam Trail",
         "07204",
         "Port April",
         "Montana",
         "1966-07-28",
         "5527331190171381",
         "1000.00"
        ],
        [
         3,
         "Kenneth Smith",
         "WA",
         "001-592-849-6009x4173",
         "649",
         "Sherri Grove",
         "14527",
         "North Miranda",
         "Washington",
         "1998-09-25",
         "5366314062583069",
         "1000.00"
        ]
       ],
       "datasetInfos": [],
       "dbfsResultPath": null,
       "isJsonSchema": true,
       "metadata": {},
       "overflow": false,
       "plotOptions": {
        "customPlotOptions": {},
        "displayType": "table",
        "pivotAggregation": null,
        "pivotColumns": null,
        "xColumns": null,
        "yColumns": null
       },
       "removedWidgets": [],
       "schema": [
        {
         "metadata": "{}",
         "name": "client_number",
         "type": "\"integer\""
        },
        {
         "metadata": "{}",
         "name": "name",
         "type": "\"string\""
        },
        {
         "metadata": "{}",
         "name": "branch",
         "type": "\"string\""
        },
        {
         "metadata": "{}",
         "name": "phone_number",
         "type": "\"string\""
        },
        {
         "metadata": "{}",
         "name": "bulding_number",
         "type": "\"string\""
        },
        {
         "metadata": "{}",
         "name": "street_name",
         "type": "\"string\""
        },
        {
         "metadata": "{}",
         "name": "postcode",
         "type": "\"string\""
        },
        {
         "metadata": "{}",
         "name": "city",
         "type": "\"string\""
        },
        {
         "metadata": "{}",
         "name": "state",
         "type": "\"string\""
        },
        {
         "metadata": "{}",
         "name": "birth_date",
         "type": "\"string\""
        },
        {
         "metadata": "{}",
         "name": "credit_card_number",
         "type": "\"string\""
        },
        {
         "metadata": "{}",
         "name": "amout",
         "type": "\"string\""
        }
       ],
       "type": "table"
      }
     },
     "output_type": "display_data"
    }
   ],
   "source": [
    "# Left Semi-join: Retrieves records and columns from the left DataFrame where records match records in the right DataFrame.\n",
    "display(df.join(df_tran, df['client_number'] == df_tran['client_id'], 'leftsemi'))"
   ]
  },
  {
   "cell_type": "code",
   "execution_count": 0,
   "metadata": {
    "application/vnd.databricks.v1+cell": {
     "cellMetadata": {
      "byteLimit": 2048000,
      "rowLimit": 10000
     },
     "inputWidgets": {},
     "nuid": "15f921a1-e854-4f10-9dd4-c19aefe6bff4",
     "showTitle": false,
     "tableResultSettingsMap": {},
     "title": ""
    }
   },
   "outputs": [
    {
     "output_type": "display_data",
     "data": {
      "text/html": [
       "<style scoped>\n",
       "  .table-result-container {\n",
       "    max-height: 300px;\n",
       "    overflow: auto;\n",
       "  }\n",
       "  table, th, td {\n",
       "    border: 1px solid black;\n",
       "    border-collapse: collapse;\n",
       "  }\n",
       "  th, td {\n",
       "    padding: 5px;\n",
       "  }\n",
       "  th {\n",
       "    text-align: left;\n",
       "  }\n",
       "</style><div class='table-result-container'><table class='table-result'><thead style='background-color: white'><tr><th>client_number</th><th>name</th><th>branch</th><th>phone_number</th><th>bulding_number</th><th>street_name</th><th>postcode</th><th>city</th><th>state</th><th>birth_date</th><th>credit_card_number</th><th>amout</th><th>id</th><th>client_id</th><th>value</th><th>tran_date</th></tr></thead><tbody><tr><td>1</td><td>Alicia Kaiser</td><td>WA</td><td>001-677-774-4370</td><td>13714</td><td>Stacy Summit</td><td>54799</td><td>Lake Joseborough</td><td>Delaware</td><td>1939-04-07</td><td>2656508165701512</td><td>1000.00</td><td>26076af0-d8dc-46ff-bb2c-aece0703ee21</td><td>1</td><td>200.0</td><td>2024-02-03</td></tr><tr><td>1</td><td>Alicia Kaiser</td><td>WA</td><td>001-677-774-4370</td><td>13714</td><td>Stacy Summit</td><td>54799</td><td>Lake Joseborough</td><td>Delaware</td><td>1939-04-07</td><td>2656508165701512</td><td>1000.00</td><td>fb0bc3f9-61d8-44d6-b9bb-ee9279c9020c</td><td>1</td><td>100.0</td><td>2024-02-01</td></tr><tr><td>1</td><td>Alicia Kaiser</td><td>WA</td><td>001-677-774-4370</td><td>13714</td><td>Stacy Summit</td><td>54799</td><td>Lake Joseborough</td><td>Delaware</td><td>1939-04-07</td><td>2656508165701512</td><td>1000.00</td><td>a71b6a75-c5e5-429c-8946-8df996d0657e</td><td>1</td><td>130.0</td><td>2024-02-04</td></tr><tr><td>2</td><td>Donna Ellis</td><td>BR</td><td>001-631-995-8008</td><td>43599</td><td>Adam Trail</td><td>07204</td><td>Port April</td><td>Montana</td><td>1966-07-28</td><td>5527331190171381</td><td>1000.00</td><td>a7fa903a-0e61-437c-b7f9-1987c834260a</td><td>2</td><td>110.0</td><td>2024-02-05</td></tr><tr><td>2</td><td>Donna Ellis</td><td>BR</td><td>001-631-995-8008</td><td>43599</td><td>Adam Trail</td><td>07204</td><td>Port April</td><td>Montana</td><td>1966-07-28</td><td>5527331190171381</td><td>1000.00</td><td>9aa2c49f-3f26-42b6-b63c-518f0f06711a</td><td>2</td><td>300.0</td><td>2024-02-02</td></tr><tr><td>2</td><td>Donna Ellis</td><td>BR</td><td>001-631-995-8008</td><td>43599</td><td>Adam Trail</td><td>07204</td><td>Port April</td><td>Montana</td><td>1966-07-28</td><td>5527331190171381</td><td>1000.00</td><td>86ddb0bf-d020-4803-8035-c35ae320cfac</td><td>2</td><td>50.0</td><td>2024-02-03</td></tr><tr><td>3</td><td>Kenneth Smith</td><td>WA</td><td>001-592-849-6009x4173</td><td>649</td><td>Sherri Grove</td><td>14527</td><td>North Miranda</td><td>Washington</td><td>1998-09-25</td><td>5366314062583069</td><td>1000.00</td><td>59661f8e-6cb2-403d-9b28-d3eac5c97375</td><td>3</td><td>200.0</td><td>2024-02-01</td></tr></tbody></table></div>"
      ]
     },
     "metadata": {
      "application/vnd.databricks.v1+output": {
       "addedWidgets": {},
       "aggData": [],
       "aggError": "",
       "aggOverflow": false,
       "aggSchema": [],
       "aggSeriesLimitReached": false,
       "aggType": "",
       "arguments": {},
       "columnCustomDisplayInfos": {},
       "data": [
        [
         1,
         "Alicia Kaiser",
         "WA",
         "001-677-774-4370",
         "13714",
         "Stacy Summit",
         "54799",
         "Lake Joseborough",
         "Delaware",
         "1939-04-07",
         "2656508165701512",
         "1000.00",
         "26076af0-d8dc-46ff-bb2c-aece0703ee21",
         1,
         200.0,
         "2024-02-03"
        ],
        [
         1,
         "Alicia Kaiser",
         "WA",
         "001-677-774-4370",
         "13714",
         "Stacy Summit",
         "54799",
         "Lake Joseborough",
         "Delaware",
         "1939-04-07",
         "2656508165701512",
         "1000.00",
         "fb0bc3f9-61d8-44d6-b9bb-ee9279c9020c",
         1,
         100.0,
         "2024-02-01"
        ],
        [
         1,
         "Alicia Kaiser",
         "WA",
         "001-677-774-4370",
         "13714",
         "Stacy Summit",
         "54799",
         "Lake Joseborough",
         "Delaware",
         "1939-04-07",
         "2656508165701512",
         "1000.00",
         "a71b6a75-c5e5-429c-8946-8df996d0657e",
         1,
         130.0,
         "2024-02-04"
        ],
        [
         2,
         "Donna Ellis",
         "BR",
         "001-631-995-8008",
         "43599",
         "Adam Trail",
         "07204",
         "Port April",
         "Montana",
         "1966-07-28",
         "5527331190171381",
         "1000.00",
         "a7fa903a-0e61-437c-b7f9-1987c834260a",
         2,
         110.0,
         "2024-02-05"
        ],
        [
         2,
         "Donna Ellis",
         "BR",
         "001-631-995-8008",
         "43599",
         "Adam Trail",
         "07204",
         "Port April",
         "Montana",
         "1966-07-28",
         "5527331190171381",
         "1000.00",
         "9aa2c49f-3f26-42b6-b63c-518f0f06711a",
         2,
         300.0,
         "2024-02-02"
        ],
        [
         2,
         "Donna Ellis",
         "BR",
         "001-631-995-8008",
         "43599",
         "Adam Trail",
         "07204",
         "Port April",
         "Montana",
         "1966-07-28",
         "5527331190171381",
         "1000.00",
         "86ddb0bf-d020-4803-8035-c35ae320cfac",
         2,
         50.0,
         "2024-02-03"
        ],
        [
         3,
         "Kenneth Smith",
         "WA",
         "001-592-849-6009x4173",
         "649",
         "Sherri Grove",
         "14527",
         "North Miranda",
         "Washington",
         "1998-09-25",
         "5366314062583069",
         "1000.00",
         "59661f8e-6cb2-403d-9b28-d3eac5c97375",
         3,
         200.0,
         "2024-02-01"
        ]
       ],
       "datasetInfos": [],
       "dbfsResultPath": null,
       "isJsonSchema": true,
       "metadata": {},
       "overflow": false,
       "plotOptions": {
        "customPlotOptions": {},
        "displayType": "table",
        "pivotAggregation": null,
        "pivotColumns": null,
        "xColumns": null,
        "yColumns": null
       },
       "removedWidgets": [],
       "schema": [
        {
         "metadata": "{}",
         "name": "client_number",
         "type": "\"integer\""
        },
        {
         "metadata": "{}",
         "name": "name",
         "type": "\"string\""
        },
        {
         "metadata": "{}",
         "name": "branch",
         "type": "\"string\""
        },
        {
         "metadata": "{}",
         "name": "phone_number",
         "type": "\"string\""
        },
        {
         "metadata": "{}",
         "name": "bulding_number",
         "type": "\"string\""
        },
        {
         "metadata": "{}",
         "name": "street_name",
         "type": "\"string\""
        },
        {
         "metadata": "{}",
         "name": "postcode",
         "type": "\"string\""
        },
        {
         "metadata": "{}",
         "name": "city",
         "type": "\"string\""
        },
        {
         "metadata": "{}",
         "name": "state",
         "type": "\"string\""
        },
        {
         "metadata": "{}",
         "name": "birth_date",
         "type": "\"string\""
        },
        {
         "metadata": "{}",
         "name": "credit_card_number",
         "type": "\"string\""
        },
        {
         "metadata": "{}",
         "name": "amout",
         "type": "\"string\""
        },
        {
         "metadata": "{}",
         "name": "id",
         "type": "\"string\""
        },
        {
         "metadata": "{}",
         "name": "client_id",
         "type": "\"integer\""
        },
        {
         "metadata": "{}",
         "name": "value",
         "type": "\"double\""
        },
        {
         "metadata": "{}",
         "name": "tran_date",
         "type": "\"string\""
        }
       ],
       "type": "table"
      }
     },
     "output_type": "display_data"
    }
   ],
   "source": [
    "# Naturally, Spark SQL allows us to use SQL-like joins in our code. We can join existing tables or create views and join these views using SQL syntax.\n",
    "\n",
    "df.createOrReplaceTempView(\"clients\")\n",
    "df_tran.createOrReplaceTempView(\"tran\")\n",
    "\n",
    "display(spark.sql(\"\"\"\n",
    "select * \n",
    "from \n",
    "clients a \n",
    "inner join \n",
    "tran b on a.client_number = b.client_id\n",
    "                  \"\"\"))\n"
   ]
  },
  {
   "cell_type": "code",
   "execution_count": 0,
   "metadata": {
    "application/vnd.databricks.v1+cell": {
     "cellMetadata": {
      "byteLimit": 2048000,
      "rowLimit": 10000
     },
     "inputWidgets": {},
     "nuid": "055fd532-e46e-4670-851f-dbbdf1f32cb7",
     "showTitle": false,
     "tableResultSettingsMap": {},
     "title": ""
    }
   },
   "outputs": [
    {
     "output_type": "display_data",
     "data": {
      "text/html": [
       "<style scoped>\n",
       "  .table-result-container {\n",
       "    max-height: 300px;\n",
       "    overflow: auto;\n",
       "  }\n",
       "  table, th, td {\n",
       "    border: 1px solid black;\n",
       "    border-collapse: collapse;\n",
       "  }\n",
       "  th, td {\n",
       "    padding: 5px;\n",
       "  }\n",
       "  th {\n",
       "    text-align: left;\n",
       "  }\n",
       "</style><div class='table-result-container'><table class='table-result'><thead style='background-color: white'><tr><th>col0</th><th>col1</th><th>col2</th></tr></thead><tbody><tr><td>1</td><td>2</td><td>3</td></tr><tr><td>6</td><td>4</td><td>5</td></tr></tbody></table></div>"
      ]
     },
     "metadata": {
      "application/vnd.databricks.v1+output": {
       "addedWidgets": {},
       "aggData": [],
       "aggError": "",
       "aggOverflow": false,
       "aggSchema": [],
       "aggSeriesLimitReached": false,
       "aggType": "",
       "arguments": {},
       "columnCustomDisplayInfos": {},
       "data": [
        [
         1,
         2,
         3
        ],
        [
         6,
         4,
         5
        ]
       ],
       "datasetInfos": [],
       "dbfsResultPath": null,
       "isJsonSchema": true,
       "metadata": {},
       "overflow": false,
       "plotOptions": {
        "customPlotOptions": {},
        "displayType": "table",
        "pivotAggregation": null,
        "pivotColumns": null,
        "xColumns": null,
        "yColumns": null
       },
       "removedWidgets": [],
       "schema": [
        {
         "metadata": "{}",
         "name": "col0",
         "type": "\"long\""
        },
        {
         "metadata": "{}",
         "name": "col1",
         "type": "\"long\""
        },
        {
         "metadata": "{}",
         "name": "col2",
         "type": "\"long\""
        }
       ],
       "type": "table"
      }
     },
     "output_type": "display_data"
    },
    {
     "output_type": "display_data",
     "data": {
      "text/html": [
       "<style scoped>\n",
       "  .table-result-container {\n",
       "    max-height: 300px;\n",
       "    overflow: auto;\n",
       "  }\n",
       "  table, th, td {\n",
       "    border: 1px solid black;\n",
       "    border-collapse: collapse;\n",
       "  }\n",
       "  th, td {\n",
       "    padding: 5px;\n",
       "  }\n",
       "  th {\n",
       "    text-align: left;\n",
       "  }\n",
       "</style><div class='table-result-container'><table class='table-result'><thead style='background-color: white'><tr><th>col0</th><th>col1</th><th>col2</th></tr></thead><tbody><tr><td>1</td><td>2</td><td>3</td></tr><tr><td>4</td><td>5</td><td>6</td></tr></tbody></table></div>"
      ]
     },
     "metadata": {
      "application/vnd.databricks.v1+output": {
       "addedWidgets": {},
       "aggData": [],
       "aggError": "",
       "aggOverflow": false,
       "aggSchema": [],
       "aggSeriesLimitReached": false,
       "aggType": "",
       "arguments": {},
       "columnCustomDisplayInfos": {},
       "data": [
        [
         1,
         2,
         3
        ],
        [
         4,
         5,
         6
        ]
       ],
       "datasetInfos": [],
       "dbfsResultPath": null,
       "isJsonSchema": true,
       "metadata": {},
       "overflow": false,
       "plotOptions": {
        "customPlotOptions": {},
        "displayType": "table",
        "pivotAggregation": null,
        "pivotColumns": null,
        "xColumns": null,
        "yColumns": null
       },
       "removedWidgets": [],
       "schema": [
        {
         "metadata": "{}",
         "name": "col0",
         "type": "\"long\""
        },
        {
         "metadata": "{}",
         "name": "col1",
         "type": "\"long\""
        },
        {
         "metadata": "{}",
         "name": "col2",
         "type": "\"long\""
        }
       ],
       "type": "table"
      }
     },
     "output_type": "display_data"
    },
    {
     "output_type": "display_data",
     "data": {
      "text/html": [
       "<style scoped>\n",
       "  .table-result-container {\n",
       "    max-height: 300px;\n",
       "    overflow: auto;\n",
       "  }\n",
       "  table, th, td {\n",
       "    border: 1px solid black;\n",
       "    border-collapse: collapse;\n",
       "  }\n",
       "  th, td {\n",
       "    padding: 5px;\n",
       "  }\n",
       "  th {\n",
       "    text-align: left;\n",
       "  }\n",
       "</style><div class='table-result-container'><table class='table-result'><thead style='background-color: white'><tr><th>col0</th><th>col1</th><th>col2</th><th>col3</th></tr></thead><tbody><tr><td>1</td><td>2</td><td>3</td><td>null</td></tr><tr><td>null</td><td>4</td><td>5</td><td>6</td></tr></tbody></table></div>"
      ]
     },
     "metadata": {
      "application/vnd.databricks.v1+output": {
       "addedWidgets": {},
       "aggData": [],
       "aggError": "",
       "aggOverflow": false,
       "aggSchema": [],
       "aggSeriesLimitReached": false,
       "aggType": "",
       "arguments": {},
       "columnCustomDisplayInfos": {},
       "data": [
        [
         1,
         2,
         3,
         null
        ],
        [
         null,
         4,
         5,
         6
        ]
       ],
       "datasetInfos": [],
       "dbfsResultPath": null,
       "isJsonSchema": true,
       "metadata": {},
       "overflow": false,
       "plotOptions": {
        "customPlotOptions": {},
        "displayType": "table",
        "pivotAggregation": null,
        "pivotColumns": null,
        "xColumns": null,
        "yColumns": null
       },
       "removedWidgets": [],
       "schema": [
        {
         "metadata": "{}",
         "name": "col0",
         "type": "\"long\""
        },
        {
         "metadata": "{}",
         "name": "col1",
         "type": "\"long\""
        },
        {
         "metadata": "{}",
         "name": "col2",
         "type": "\"long\""
        },
        {
         "metadata": "{}",
         "name": "col3",
         "type": "\"long\""
        }
       ],
       "type": "table"
      }
     },
     "output_type": "display_data"
    }
   ],
   "source": [
    "# Union DataFrames\n",
    "df1 = spark.createDataFrame([[1, 2, 3]], [\"col0\", \"col1\", \"col2\"])\n",
    "\n",
    "df2 = spark.createDataFrame([[4, 5, 6]], [\"col1\", \"col2\", \"col0\"])\n",
    "\n",
    "# example 1\n",
    "display(df1.unionByName(df2))\n",
    "\n",
    "# example 2\n",
    "display(df1.union(df2))\n",
    "\n",
    "df2 = spark.createDataFrame([[4, 5, 6]], [\"col1\", \"col2\", \"col3\"])\n",
    "\n",
    "# example 3\n",
    "display(df1.unionByName(df2, allowMissingColumns=True))"
   ]
  },
  {
   "cell_type": "code",
   "execution_count": 0,
   "metadata": {
    "application/vnd.databricks.v1+cell": {
     "cellMetadata": {
      "byteLimit": 2048000,
      "rowLimit": 10000
     },
     "inputWidgets": {},
     "nuid": "93dd5c37-8b0d-400e-9c20-eaddbb8e9af8",
     "showTitle": false,
     "tableResultSettingsMap": {},
     "title": ""
    }
   },
   "outputs": [
    {
     "output_type": "display_data",
     "data": {
      "text/html": [
       "<style scoped>\n",
       "  .table-result-container {\n",
       "    max-height: 300px;\n",
       "    overflow: auto;\n",
       "  }\n",
       "  table, th, td {\n",
       "    border: 1px solid black;\n",
       "    border-collapse: collapse;\n",
       "  }\n",
       "  th, td {\n",
       "    padding: 5px;\n",
       "  }\n",
       "  th {\n",
       "    text-align: left;\n",
       "  }\n",
       "</style><div class='table-result-container'><table class='table-result'><thead style='background-color: white'><tr><th>name</th><th>surname</th><th>gender</th><th>salary</th></tr></thead><tbody><tr><td>Robert</td><td>Smith</td><td>M</td><td>40000</td></tr><tr><td>Ana</td><td>Novak</td><td>M</td><td>60000</td></tr><tr><td>Carl</td><td>Xyz</td><td>null</td><td>500000</td></tr><tr><td>Maria</td><td>Free</td><td>F</td><td>500000</td></tr><tr><td>Johm</td><td>Az</td><td></td><td>null</td></tr><tr><td>Steve</td><td>Smith</td><td></td><td>1000</td></tr></tbody></table></div>"
      ]
     },
     "metadata": {
      "application/vnd.databricks.v1+output": {
       "addedWidgets": {},
       "aggData": [],
       "aggError": "",
       "aggOverflow": false,
       "aggSchema": [],
       "aggSeriesLimitReached": false,
       "aggType": "",
       "arguments": {},
       "columnCustomDisplayInfos": {},
       "data": [
        [
         "Robert",
         "Smith",
         "M",
         40000
        ],
        [
         "Ana",
         "Novak",
         "M",
         60000
        ],
        [
         "Carl",
         "Xyz",
         null,
         500000
        ],
        [
         "Maria",
         "Free",
         "F",
         500000
        ],
        [
         "Johm",
         "Az",
         "",
         null
        ],
        [
         "Steve",
         "Smith",
         "",
         1000
        ]
       ],
       "datasetInfos": [],
       "dbfsResultPath": null,
       "isJsonSchema": true,
       "metadata": {},
       "overflow": false,
       "plotOptions": {
        "customPlotOptions": {},
        "displayType": "table",
        "pivotAggregation": null,
        "pivotColumns": null,
        "xColumns": null,
        "yColumns": null
       },
       "removedWidgets": [],
       "schema": [
        {
         "metadata": "{}",
         "name": "name",
         "type": "\"string\""
        },
        {
         "metadata": "{}",
         "name": "surname",
         "type": "\"string\""
        },
        {
         "metadata": "{}",
         "name": "gender",
         "type": "\"string\""
        },
        {
         "metadata": "{}",
         "name": "salary",
         "type": "\"long\""
        }
       ],
       "type": "table"
      }
     },
     "output_type": "display_data"
    },
    {
     "output_type": "display_data",
     "data": {
      "text/html": [
       "<style scoped>\n",
       "  .table-result-container {\n",
       "    max-height: 300px;\n",
       "    overflow: auto;\n",
       "  }\n",
       "  table, th, td {\n",
       "    border: 1px solid black;\n",
       "    border-collapse: collapse;\n",
       "  }\n",
       "  th, td {\n",
       "    padding: 5px;\n",
       "  }\n",
       "  th {\n",
       "    text-align: left;\n",
       "  }\n",
       "</style><div class='table-result-container'><table class='table-result'><thead style='background-color: white'><tr><th>name</th><th>surname</th><th>gender</th><th>salary</th><th>new_gender</th></tr></thead><tbody><tr><td>Robert</td><td>Smith</td><td>M</td><td>40000</td><td>Male</td></tr><tr><td>Ana</td><td>Novak</td><td>M</td><td>60000</td><td>Male</td></tr><tr><td>Carl</td><td>Xyz</td><td>null</td><td>500000</td><td></td></tr><tr><td>Maria</td><td>Free</td><td>F</td><td>500000</td><td>Female</td></tr><tr><td>Johm</td><td>Az</td><td></td><td>null</td><td></td></tr><tr><td>Steve</td><td>Smith</td><td></td><td>1000</td><td></td></tr></tbody></table></div>"
      ]
     },
     "metadata": {
      "application/vnd.databricks.v1+output": {
       "addedWidgets": {},
       "aggData": [],
       "aggError": "",
       "aggOverflow": false,
       "aggSchema": [],
       "aggSeriesLimitReached": false,
       "aggType": "",
       "arguments": {},
       "columnCustomDisplayInfos": {},
       "data": [
        [
         "Robert",
         "Smith",
         "M",
         40000,
         "Male"
        ],
        [
         "Ana",
         "Novak",
         "M",
         60000,
         "Male"
        ],
        [
         "Carl",
         "Xyz",
         null,
         500000,
         ""
        ],
        [
         "Maria",
         "Free",
         "F",
         500000,
         "Female"
        ],
        [
         "Johm",
         "Az",
         "",
         null,
         ""
        ],
        [
         "Steve",
         "Smith",
         "",
         1000,
         ""
        ]
       ],
       "datasetInfos": [],
       "dbfsResultPath": null,
       "isJsonSchema": true,
       "metadata": {},
       "overflow": false,
       "plotOptions": {
        "customPlotOptions": {},
        "displayType": "table",
        "pivotAggregation": null,
        "pivotColumns": null,
        "xColumns": null,
        "yColumns": null
       },
       "removedWidgets": [],
       "schema": [
        {
         "metadata": "{}",
         "name": "name",
         "type": "\"string\""
        },
        {
         "metadata": "{}",
         "name": "surname",
         "type": "\"string\""
        },
        {
         "metadata": "{}",
         "name": "gender",
         "type": "\"string\""
        },
        {
         "metadata": "{}",
         "name": "salary",
         "type": "\"long\""
        },
        {
         "metadata": "{}",
         "name": "new_gender",
         "type": "\"string\""
        }
       ],
       "type": "table"
      }
     },
     "output_type": "display_data"
    }
   ],
   "source": [
    "#When function\n",
    "#A useful function in PySpark is when, which is employed in cases where we need to translate or map a value to another value based on specified conditions\n",
    "\n",
    "\n",
    "from pyspark.sql.functions import expr, col, column, lit, exp, current_date, when\n",
    "\n",
    "data = [(\"Robert\", \"Smith\",\"M\",40000),(\"Ana\",\"Novak\",\"M\",60000),\n",
    "        (\"Carl\",\"Xyz\",None,500000),(\"Maria\",\"Free\",\"F\",500000),\n",
    "        (\"Johm\",\"Az\",\"\",None), (\"Steve\",\"Smith\",\"\",1000)]\n",
    "\n",
    "columns = [\"name\",\"surname\",\"gender\",\"salary\"]\n",
    "df = spark.createDataFrame(data = data, schema = columns)\n",
    "\n",
    "df2 = df.withColumn(\"new_gender\", when(df.gender == \"M\",\"Male\")\n",
    "                                 .when(df.gender == \"F\",\"Female\")\n",
    "                                 .when(df.gender.isNull() ,\"\")\n",
    "                                 .otherwise(df.gender))\n",
    "display(df)\n",
    "display(df2)"
   ]
  },
  {
   "cell_type": "code",
   "execution_count": 0,
   "metadata": {
    "application/vnd.databricks.v1+cell": {
     "cellMetadata": {},
     "inputWidgets": {},
     "nuid": "d939c9f4-437b-4184-9733-175020e74d3a",
     "showTitle": false,
     "tableResultSettingsMap": {},
     "title": ""
    }
   },
   "outputs": [],
   "source": []
  },
  {
   "cell_type": "markdown",
   "metadata": {
    "application/vnd.databricks.v1+cell": {
     "cellMetadata": {},
     "inputWidgets": {},
     "nuid": "6f84d4fe-9551-4431-9fd8-cacebd787c1c",
     "showTitle": false,
     "tableResultSettingsMap": {},
     "title": ""
    }
   },
   "source": [
    "Python Functions and Modules"
   ]
  },
  {
   "cell_type": "code",
   "execution_count": 0,
   "metadata": {
    "application/vnd.databricks.v1+cell": {
     "cellMetadata": {
      "byteLimit": 2048000,
      "rowLimit": 10000
     },
     "inputWidgets": {},
     "nuid": "fcff0aa3-9eba-4104-9594-dcb5f6067c30",
     "showTitle": false,
     "tableResultSettingsMap": {},
     "title": ""
    }
   },
   "outputs": [],
   "source": [
    "# fun.py\n",
    "def add(a,b):\n",
    "    return a+b"
   ]
  },
  {
   "cell_type": "markdown",
   "metadata": {
    "application/vnd.databricks.v1+cell": {
     "cellMetadata": {},
     "inputWidgets": {},
     "nuid": "6f22be3c-4844-4389-b6d3-4786704450b3",
     "showTitle": false,
     "tableResultSettingsMap": {},
     "title": ""
    }
   },
   "source": [
    "User-defined functions\n",
    "If we can’t find a function for our use case, it’s possible to create our custom function. However, to use it with DataFrames or SQL, we need to register it."
   ]
  },
  {
   "cell_type": "code",
   "execution_count": 0,
   "metadata": {
    "application/vnd.databricks.v1+cell": {
     "cellMetadata": {
      "byteLimit": 2048000,
      "rowLimit": 10000
     },
     "inputWidgets": {},
     "nuid": "0df86d2d-9701-4f4f-92ff-6c986c4c56f4",
     "showTitle": false,
     "tableResultSettingsMap": {},
     "title": ""
    }
   },
   "outputs": [
    {
     "output_type": "stream",
     "name": "stdout",
     "output_type": "stream",
     "text": [
      "3\n"
     ]
    }
   ],
   "source": [
    "%python\n",
    "from pyspark.sql.types import LongType\n",
    "\n",
    "def squared(s):\n",
    "  return s * s\n",
    "\n",
    "spark.udf.register(\"squaredWithPython\", squared, LongType())\n",
    "df1.createOrReplaceTempView(\"df1\")\n",
    "\n",
    "def add(a, b):\n",
    "  return a + b\n",
    "\n",
    "print(add(1, 2))"
   ]
  },
  {
   "cell_type": "code",
   "execution_count": 0,
   "metadata": {
    "application/vnd.databricks.v1+cell": {
     "cellMetadata": {
      "byteLimit": 2048000,
      "rowLimit": 10000
     },
     "inputWidgets": {},
     "nuid": "740393e3-5183-433f-8d8c-a8698fc5c4e5",
     "showTitle": false,
     "tableResultSettingsMap": {},
     "title": ""
    }
   },
   "outputs": [
    {
     "output_type": "display_data",
     "data": {
      "text/plain": [
       "\u001B[0;31m---------------------------------------------------------------------------\u001B[0m\n",
       "\u001B[0;31mExecutionError\u001B[0m                            Traceback (most recent call last)\n",
       "File \u001B[0;32m<command-3750198211146947>, line 5\u001B[0m\n",
       "\u001B[1;32m      3\u001B[0m response \u001B[38;5;241m=\u001B[39m requests\u001B[38;5;241m.\u001B[39mget(\u001B[38;5;124m'\u001B[39m\u001B[38;5;124mhttps://health.data.ny.gov/api/views/jxy9-yhdk/rows.csv\u001B[39m\u001B[38;5;124m'\u001B[39m)\n",
       "\u001B[1;32m      4\u001B[0m csvfile \u001B[38;5;241m=\u001B[39m response\u001B[38;5;241m.\u001B[39mcontent\u001B[38;5;241m.\u001B[39mdecode(\u001B[38;5;124m'\u001B[39m\u001B[38;5;124mutf-8\u001B[39m\u001B[38;5;124m'\u001B[39m)\n",
       "\u001B[0;32m----> 5\u001B[0m dbutils\u001B[38;5;241m.\u001B[39mfs\u001B[38;5;241m.\u001B[39mput(\u001B[38;5;124m\"\u001B[39m\u001B[38;5;124m/Volumes/main/default/my-volume/babynames.csv\u001B[39m\u001B[38;5;124m\"\u001B[39m, csvfile, \u001B[38;5;28;01mTrue\u001B[39;00m)\n",
       "\n",
       "File \u001B[0;32m/databricks/python_shell/lib/dbruntime/dbutils.py:158\u001B[0m, in \u001B[0;36mprettify_exception_message.<locals>.f_with_exception_handling\u001B[0;34m(*args, **kwargs)\u001B[0m\n",
       "\u001B[1;32m    156\u001B[0m exc\u001B[38;5;241m.\u001B[39m__context__ \u001B[38;5;241m=\u001B[39m \u001B[38;5;28;01mNone\u001B[39;00m\n",
       "\u001B[1;32m    157\u001B[0m exc\u001B[38;5;241m.\u001B[39m__cause__ \u001B[38;5;241m=\u001B[39m \u001B[38;5;28;01mNone\u001B[39;00m\n",
       "\u001B[0;32m--> 158\u001B[0m \u001B[38;5;28;01mraise\u001B[39;00m exc\n",
       "\n",
       "\u001B[0;31mExecutionError\u001B[0m: An error occurred while calling o412.put.\n",
       ": com.databricks.backend.daemon.data.common.InvalidMountException: Error while using path /Volumes/main/default/my-volume for creating file system within mount at '/Volumes/main/default/my-volume'.\n",
       "\tat com.databricks.backend.daemon.data.common.InvalidMountException$.apply(DataMessages.scala:765)\n",
       "\tat com.databricks.backend.daemon.data.filesystem.MountEntryResolver.createFileSystem(MountEntryResolver.scala:154)\n",
       "\tat com.databricks.backend.daemon.data.client.DBFSOnUCFileSystemResolverImpl.createFileSystemByMountEntryResolver(DBFSOnUCFileSystemResolverImpl.scala:229)\n",
       "\tat com.databricks.backend.daemon.data.client.DBFSOnUCFileSystemResolverImpl.createFileSystem(DBFSOnUCFileSystemResolverImpl.scala:205)\n",
       "\tat com.databricks.backend.daemon.data.client.DBFSOnUCFileSystemResolverImpl.resolveAndGetFileSystem(DBFSOnUCFileSystemResolverImpl.scala:195)\n",
       "\tat com.databricks.backend.daemon.data.client.DBFSV2.resolveAndGetFileSystem(DatabricksFileSystemV2.scala:145)\n",
       "\tat com.databricks.backend.daemon.data.client.DatabricksFileSystemV2.resolve(DatabricksFileSystemV2.scala:773)\n",
       "\tat com.databricks.backend.daemon.data.client.DatabricksFileSystemV2.$anonfun$create$3(DatabricksFileSystemV2.scala:925)\n",
       "\tat com.databricks.s3a.S3AExceptionUtils$.convertAWSExceptionToJavaIOException(DatabricksStreamUtils.scala:66)\n",
       "\tat com.databricks.backend.daemon.data.client.DatabricksFileSystemV2.$anonfun$create$2(DatabricksFileSystemV2.scala:924)\n",
       "\tat com.databricks.backend.daemon.data.client.DatabricksFileSystemV2.$anonfun$withUserContextRecorded$2(DatabricksFileSystemV2.scala:1376)\n",
       "\tat com.databricks.logging.AttributionContextTracing.$anonfun$withAttributionContext$1(AttributionContextTracing.scala:48)\n",
       "\tat com.databricks.logging.AttributionContext$.$anonfun$withValue$1(AttributionContext.scala:276)\n",
       "\tat scala.util.DynamicVariable.withValue(DynamicVariable.scala:62)\n",
       "\tat com.databricks.logging.AttributionContext$.withValue(AttributionContext.scala:272)\n",
       "\tat com.databricks.logging.AttributionContextTracing.withAttributionContext(AttributionContextTracing.scala:46)\n",
       "\tat com.databricks.logging.AttributionContextTracing.withAttributionContext$(AttributionContextTracing.scala:43)\n",
       "\tat com.databricks.backend.daemon.data.client.DatabricksFileSystemV2.withAttributionContext(DatabricksFileSystemV2.scala:741)\n",
       "\tat com.databricks.logging.AttributionContextTracing.withAttributionTags(AttributionContextTracing.scala:95)\n",
       "\tat com.databricks.logging.AttributionContextTracing.withAttributionTags$(AttributionContextTracing.scala:76)\n",
       "\tat com.databricks.backend.daemon.data.client.DatabricksFileSystemV2.withAttributionTags(DatabricksFileSystemV2.scala:741)\n",
       "\tat com.databricks.backend.daemon.data.client.DatabricksFileSystemV2.withUserContextRecorded(DatabricksFileSystemV2.scala:1349)\n",
       "\tat com.databricks.backend.daemon.data.client.DatabricksFileSystemV2.$anonfun$create$1(DatabricksFileSystemV2.scala:923)\n",
       "\tat com.databricks.logging.UsageLogging.$anonfun$recordOperation$1(UsageLogging.scala:528)\n",
       "\tat com.databricks.logging.UsageLogging.executeThunkAndCaptureResultTags$1(UsageLogging.scala:633)\n",
       "\tat com.databricks.logging.UsageLogging.$anonfun$recordOperationWithResultTags$4(UsageLogging.scala:656)\n",
       "\tat com.databricks.logging.AttributionContextTracing.$anonfun$withAttributionContext$1(AttributionContextTracing.scala:48)\n",
       "\tat com.databricks.logging.AttributionContext$.$anonfun$withValue$1(AttributionContext.scala:276)\n",
       "\tat scala.util.DynamicVariable.withValue(DynamicVariable.scala:62)\n",
       "\tat com.databricks.logging.AttributionContext$.withValue(AttributionContext.scala:272)\n",
       "\tat com.databricks.logging.AttributionContextTracing.withAttributionContext(AttributionContextTracing.scala:46)\n",
       "\tat com.databricks.logging.AttributionContextTracing.withAttributionContext$(AttributionContextTracing.scala:43)\n",
       "\tat com.databricks.backend.daemon.data.client.DatabricksFileSystemV2.withAttributionContext(DatabricksFileSystemV2.scala:741)\n",
       "\tat com.databricks.logging.AttributionContextTracing.withAttributionTags(AttributionContextTracing.scala:95)\n",
       "\tat com.databricks.logging.AttributionContextTracing.withAttributionTags$(AttributionContextTracing.scala:76)\n",
       "\tat com.databricks.backend.daemon.data.client.DatabricksFileSystemV2.withAttributionTags(DatabricksFileSystemV2.scala:741)\n",
       "\tat com.databricks.logging.UsageLogging.recordOperationWithResultTags(UsageLogging.scala:628)\n",
       "\tat com.databricks.logging.UsageLogging.recordOperationWithResultTags$(UsageLogging.scala:537)\n",
       "\tat com.databricks.backend.daemon.data.client.DatabricksFileSystemV2.recordOperationWithResultTags(DatabricksFileSystemV2.scala:741)\n",
       "\tat com.databricks.logging.UsageLogging.recordOperation(UsageLogging.scala:529)\n",
       "\tat com.databricks.logging.UsageLogging.recordOperation$(UsageLogging.scala:495)\n",
       "\tat com.databricks.backend.daemon.data.client.DatabricksFileSystemV2.recordOperation(DatabricksFileSystemV2.scala:741)\n",
       "\tat com.databricks.backend.daemon.data.client.DatabricksFileSystemV2.create(DatabricksFileSystemV2.scala:920)\n",
       "\tat com.databricks.backend.daemon.data.client.DatabricksFileSystem.create(DatabricksFileSystem.scala:143)\n",
       "\tat com.databricks.common.filesystem.LokiFileSystem.create(LokiFileSystem.scala:299)\n",
       "\tat org.apache.hadoop.fs.FileSystem.create(FileSystem.java:1233)\n",
       "\tat org.apache.hadoop.fs.FileSystem.create(FileSystem.java:1210)\n",
       "\tat org.apache.hadoop.fs.FileSystem.create(FileSystem.java:1091)\n",
       "\tat com.databricks.backend.daemon.dbutils.FSUtils.$anonfun$put$3(DBUtilsCore.scala:536)\n",
       "\tat com.databricks.backend.daemon.dbutils.FSUtils.withFsSafetyCheck(DBUtilsCore.scala:152)\n",
       "\tat com.databricks.backend.daemon.dbutils.FSUtils.$anonfun$put$2(DBUtilsCore.scala:533)\n",
       "\tat com.databricks.backend.daemon.dbutils.FSUtils.checkPermission(DBUtilsCore.scala:147)\n",
       "\tat com.databricks.backend.daemon.dbutils.FSUtils.$anonfun$put$1(DBUtilsCore.scala:533)\n",
       "\tat com.databricks.logging.UsageLogging.$anonfun$recordOperation$1(UsageLogging.scala:528)\n",
       "\tat com.databricks.logging.UsageLogging.executeThunkAndCaptureResultTags$1(UsageLogging.scala:633)\n",
       "\tat com.databricks.logging.UsageLogging.$anonfun$recordOperationWithResultTags$4(UsageLogging.scala:656)\n",
       "\tat com.databricks.logging.AttributionContextTracing.$anonfun$withAttributionContext$1(AttributionContextTracing.scala:48)\n",
       "\tat com.databricks.logging.AttributionContext$.$anonfun$withValue$1(AttributionContext.scala:276)\n",
       "\tat scala.util.DynamicVariable.withValue(DynamicVariable.scala:62)\n",
       "\tat com.databricks.logging.AttributionContext$.withValue(AttributionContext.scala:272)\n",
       "\tat com.databricks.logging.AttributionContextTracing.withAttributionContext(AttributionContextTracing.scala:46)\n",
       "\tat com.databricks.logging.AttributionContextTracing.withAttributionContext$(AttributionContextTracing.scala:43)\n",
       "\tat com.databricks.backend.daemon.dbutils.FSUtils.withAttributionContext(DBUtilsCore.scala:74)\n",
       "\tat com.databricks.logging.AttributionContextTracing.withAttributionTags(AttributionContextTracing.scala:95)\n",
       "\tat com.databricks.logging.AttributionContextTracing.withAttributionTags$(AttributionContextTracing.scala:76)\n",
       "\tat com.databricks.backend.daemon.dbutils.FSUtils.withAttributionTags(DBUtilsCore.scala:74)\n",
       "\tat com.databricks.logging.UsageLogging.recordOperationWithResultTags(UsageLogging.scala:628)\n",
       "\tat com.databricks.logging.UsageLogging.recordOperationWithResultTags$(UsageLogging.scala:537)\n",
       "\tat com.databricks.backend.daemon.dbutils.FSUtils.recordOperationWithResultTags(DBUtilsCore.scala:74)\n",
       "\tat com.databricks.logging.UsageLogging.recordOperation(UsageLogging.scala:529)\n",
       "\tat com.databricks.logging.UsageLogging.recordOperation$(UsageLogging.scala:495)\n",
       "\tat com.databricks.backend.daemon.dbutils.FSUtils.recordOperation(DBUtilsCore.scala:74)\n",
       "\tat com.databricks.backend.daemon.dbutils.FSUtils.recordDbutilsFsOp(DBUtilsCore.scala:138)\n",
       "\tat com.databricks.backend.daemon.dbutils.FSUtils.put(DBUtilsCore.scala:532)\n",
       "\tat sun.reflect.NativeMethodAccessorImpl.invoke0(Native Method)\n",
       "\tat sun.reflect.NativeMethodAccessorImpl.invoke(NativeMethodAccessorImpl.java:62)\n",
       "\tat sun.reflect.DelegatingMethodAccessorImpl.invoke(DelegatingMethodAccessorImpl.java:43)\n",
       "\tat java.lang.reflect.Method.invoke(Method.java:498)\n",
       "\tat py4j.reflection.MethodInvoker.invoke(MethodInvoker.java:244)\n",
       "\tat py4j.reflection.ReflectionEngine.invoke(ReflectionEngine.java:397)\n",
       "\tat py4j.Gateway.invoke(Gateway.java:306)\n",
       "\tat py4j.commands.AbstractCommand.invokeMethod(AbstractCommand.java:132)\n",
       "\tat py4j.commands.CallCommand.execute(CallCommand.java:79)\n",
       "\tat py4j.ClientServerConnection.waitForCommands(ClientServerConnection.java:199)\n",
       "\tat py4j.ClientServerConnection.run(ClientServerConnection.java:119)\n",
       "\tat java.lang.Thread.run(Thread.java:750)\n",
       "Caused by: java.lang.IllegalStateException: No Unity API token found in Unity Scope\n",
       "\tat com.databricks.unity.UnityCatalogClientHelper$.$anonfun$getToken$2(UnityCatalogClientHelper.scala:47)\n",
       "\tat scala.Option.getOrElse(Option.scala:189)\n",
       "\tat com.databricks.unity.UnityCatalogClientHelper$.getToken(UnityCatalogClientHelper.scala:47)\n",
       "\tat com.databricks.unity.volumes.UCVolumesFileSystemFactory.createFileSystem(UCVolumesFileSystemFactory.scala:41)\n",
       "\tat com.databricks.backend.daemon.data.client.DatabricksFileSystemV2Factory.createFileSystem(DatabricksFileSystemV2Factory.scala:163)\n",
       "\tat com.databricks.backend.daemon.data.filesystem.MountEntryResolver.getOrCreateFileSystem(MountEntryResolver.scala:97)\n",
       "\tat com.databricks.backend.daemon.data.filesystem.MountEntryResolver.createFileSystem(MountEntryResolver.scala:133)\n",
       "\t... 84 more\n"
      ]
     },
     "metadata": {
      "application/vnd.databricks.v1+output": {
       "addedWidgets": {},
       "arguments": {},
       "datasetInfos": [],
       "jupyterProps": {
        "ename": "ExecutionError",
        "evalue": "An error occurred while calling o412.put.\n: com.databricks.backend.daemon.data.common.InvalidMountException: Error while using path /Volumes/main/default/my-volume for creating file system within mount at '/Volumes/main/default/my-volume'.\n\tat com.databricks.backend.daemon.data.common.InvalidMountException$.apply(DataMessages.scala:765)\n\tat com.databricks.backend.daemon.data.filesystem.MountEntryResolver.createFileSystem(MountEntryResolver.scala:154)\n\tat com.databricks.backend.daemon.data.client.DBFSOnUCFileSystemResolverImpl.createFileSystemByMountEntryResolver(DBFSOnUCFileSystemResolverImpl.scala:229)\n\tat com.databricks.backend.daemon.data.client.DBFSOnUCFileSystemResolverImpl.createFileSystem(DBFSOnUCFileSystemResolverImpl.scala:205)\n\tat com.databricks.backend.daemon.data.client.DBFSOnUCFileSystemResolverImpl.resolveAndGetFileSystem(DBFSOnUCFileSystemResolverImpl.scala:195)\n\tat com.databricks.backend.daemon.data.client.DBFSV2.resolveAndGetFileSystem(DatabricksFileSystemV2.scala:145)\n\tat com.databricks.backend.daemon.data.client.DatabricksFileSystemV2.resolve(DatabricksFileSystemV2.scala:773)\n\tat com.databricks.backend.daemon.data.client.DatabricksFileSystemV2.$anonfun$create$3(DatabricksFileSystemV2.scala:925)\n\tat com.databricks.s3a.S3AExceptionUtils$.convertAWSExceptionToJavaIOException(DatabricksStreamUtils.scala:66)\n\tat com.databricks.backend.daemon.data.client.DatabricksFileSystemV2.$anonfun$create$2(DatabricksFileSystemV2.scala:924)\n\tat com.databricks.backend.daemon.data.client.DatabricksFileSystemV2.$anonfun$withUserContextRecorded$2(DatabricksFileSystemV2.scala:1376)\n\tat com.databricks.logging.AttributionContextTracing.$anonfun$withAttributionContext$1(AttributionContextTracing.scala:48)\n\tat com.databricks.logging.AttributionContext$.$anonfun$withValue$1(AttributionContext.scala:276)\n\tat scala.util.DynamicVariable.withValue(DynamicVariable.scala:62)\n\tat com.databricks.logging.AttributionContext$.withValue(AttributionContext.scala:272)\n\tat com.databricks.logging.AttributionContextTracing.withAttributionContext(AttributionContextTracing.scala:46)\n\tat com.databricks.logging.AttributionContextTracing.withAttributionContext$(AttributionContextTracing.scala:43)\n\tat com.databricks.backend.daemon.data.client.DatabricksFileSystemV2.withAttributionContext(DatabricksFileSystemV2.scala:741)\n\tat com.databricks.logging.AttributionContextTracing.withAttributionTags(AttributionContextTracing.scala:95)\n\tat com.databricks.logging.AttributionContextTracing.withAttributionTags$(AttributionContextTracing.scala:76)\n\tat com.databricks.backend.daemon.data.client.DatabricksFileSystemV2.withAttributionTags(DatabricksFileSystemV2.scala:741)\n\tat com.databricks.backend.daemon.data.client.DatabricksFileSystemV2.withUserContextRecorded(DatabricksFileSystemV2.scala:1349)\n\tat com.databricks.backend.daemon.data.client.DatabricksFileSystemV2.$anonfun$create$1(DatabricksFileSystemV2.scala:923)\n\tat com.databricks.logging.UsageLogging.$anonfun$recordOperation$1(UsageLogging.scala:528)\n\tat com.databricks.logging.UsageLogging.executeThunkAndCaptureResultTags$1(UsageLogging.scala:633)\n\tat com.databricks.logging.UsageLogging.$anonfun$recordOperationWithResultTags$4(UsageLogging.scala:656)\n\tat com.databricks.logging.AttributionContextTracing.$anonfun$withAttributionContext$1(AttributionContextTracing.scala:48)\n\tat com.databricks.logging.AttributionContext$.$anonfun$withValue$1(AttributionContext.scala:276)\n\tat scala.util.DynamicVariable.withValue(DynamicVariable.scala:62)\n\tat com.databricks.logging.AttributionContext$.withValue(AttributionContext.scala:272)\n\tat com.databricks.logging.AttributionContextTracing.withAttributionContext(AttributionContextTracing.scala:46)\n\tat com.databricks.logging.AttributionContextTracing.withAttributionContext$(AttributionContextTracing.scala:43)\n\tat com.databricks.backend.daemon.data.client.DatabricksFileSystemV2.withAttributionContext(DatabricksFileSystemV2.scala:741)\n\tat com.databricks.logging.AttributionContextTracing.withAttributionTags(AttributionContextTracing.scala:95)\n\tat com.databricks.logging.AttributionContextTracing.withAttributionTags$(AttributionContextTracing.scala:76)\n\tat com.databricks.backend.daemon.data.client.DatabricksFileSystemV2.withAttributionTags(DatabricksFileSystemV2.scala:741)\n\tat com.databricks.logging.UsageLogging.recordOperationWithResultTags(UsageLogging.scala:628)\n\tat com.databricks.logging.UsageLogging.recordOperationWithResultTags$(UsageLogging.scala:537)\n\tat com.databricks.backend.daemon.data.client.DatabricksFileSystemV2.recordOperationWithResultTags(DatabricksFileSystemV2.scala:741)\n\tat com.databricks.logging.UsageLogging.recordOperation(UsageLogging.scala:529)\n\tat com.databricks.logging.UsageLogging.recordOperation$(UsageLogging.scala:495)\n\tat com.databricks.backend.daemon.data.client.DatabricksFileSystemV2.recordOperation(DatabricksFileSystemV2.scala:741)\n\tat com.databricks.backend.daemon.data.client.DatabricksFileSystemV2.create(DatabricksFileSystemV2.scala:920)\n\tat com.databricks.backend.daemon.data.client.DatabricksFileSystem.create(DatabricksFileSystem.scala:143)\n\tat com.databricks.common.filesystem.LokiFileSystem.create(LokiFileSystem.scala:299)\n\tat org.apache.hadoop.fs.FileSystem.create(FileSystem.java:1233)\n\tat org.apache.hadoop.fs.FileSystem.create(FileSystem.java:1210)\n\tat org.apache.hadoop.fs.FileSystem.create(FileSystem.java:1091)\n\tat com.databricks.backend.daemon.dbutils.FSUtils.$anonfun$put$3(DBUtilsCore.scala:536)\n\tat com.databricks.backend.daemon.dbutils.FSUtils.withFsSafetyCheck(DBUtilsCore.scala:152)\n\tat com.databricks.backend.daemon.dbutils.FSUtils.$anonfun$put$2(DBUtilsCore.scala:533)\n\tat com.databricks.backend.daemon.dbutils.FSUtils.checkPermission(DBUtilsCore.scala:147)\n\tat com.databricks.backend.daemon.dbutils.FSUtils.$anonfun$put$1(DBUtilsCore.scala:533)\n\tat com.databricks.logging.UsageLogging.$anonfun$recordOperation$1(UsageLogging.scala:528)\n\tat com.databricks.logging.UsageLogging.executeThunkAndCaptureResultTags$1(UsageLogging.scala:633)\n\tat com.databricks.logging.UsageLogging.$anonfun$recordOperationWithResultTags$4(UsageLogging.scala:656)\n\tat com.databricks.logging.AttributionContextTracing.$anonfun$withAttributionContext$1(AttributionContextTracing.scala:48)\n\tat com.databricks.logging.AttributionContext$.$anonfun$withValue$1(AttributionContext.scala:276)\n\tat scala.util.DynamicVariable.withValue(DynamicVariable.scala:62)\n\tat com.databricks.logging.AttributionContext$.withValue(AttributionContext.scala:272)\n\tat com.databricks.logging.AttributionContextTracing.withAttributionContext(AttributionContextTracing.scala:46)\n\tat com.databricks.logging.AttributionContextTracing.withAttributionContext$(AttributionContextTracing.scala:43)\n\tat com.databricks.backend.daemon.dbutils.FSUtils.withAttributionContext(DBUtilsCore.scala:74)\n\tat com.databricks.logging.AttributionContextTracing.withAttributionTags(AttributionContextTracing.scala:95)\n\tat com.databricks.logging.AttributionContextTracing.withAttributionTags$(AttributionContextTracing.scala:76)\n\tat com.databricks.backend.daemon.dbutils.FSUtils.withAttributionTags(DBUtilsCore.scala:74)\n\tat com.databricks.logging.UsageLogging.recordOperationWithResultTags(UsageLogging.scala:628)\n\tat com.databricks.logging.UsageLogging.recordOperationWithResultTags$(UsageLogging.scala:537)\n\tat com.databricks.backend.daemon.dbutils.FSUtils.recordOperationWithResultTags(DBUtilsCore.scala:74)\n\tat com.databricks.logging.UsageLogging.recordOperation(UsageLogging.scala:529)\n\tat com.databricks.logging.UsageLogging.recordOperation$(UsageLogging.scala:495)\n\tat com.databricks.backend.daemon.dbutils.FSUtils.recordOperation(DBUtilsCore.scala:74)\n\tat com.databricks.backend.daemon.dbutils.FSUtils.recordDbutilsFsOp(DBUtilsCore.scala:138)\n\tat com.databricks.backend.daemon.dbutils.FSUtils.put(DBUtilsCore.scala:532)\n\tat sun.reflect.NativeMethodAccessorImpl.invoke0(Native Method)\n\tat sun.reflect.NativeMethodAccessorImpl.invoke(NativeMethodAccessorImpl.java:62)\n\tat sun.reflect.DelegatingMethodAccessorImpl.invoke(DelegatingMethodAccessorImpl.java:43)\n\tat java.lang.reflect.Method.invoke(Method.java:498)\n\tat py4j.reflection.MethodInvoker.invoke(MethodInvoker.java:244)\n\tat py4j.reflection.ReflectionEngine.invoke(ReflectionEngine.java:397)\n\tat py4j.Gateway.invoke(Gateway.java:306)\n\tat py4j.commands.AbstractCommand.invokeMethod(AbstractCommand.java:132)\n\tat py4j.commands.CallCommand.execute(CallCommand.java:79)\n\tat py4j.ClientServerConnection.waitForCommands(ClientServerConnection.java:199)\n\tat py4j.ClientServerConnection.run(ClientServerConnection.java:119)\n\tat java.lang.Thread.run(Thread.java:750)\nCaused by: java.lang.IllegalStateException: No Unity API token found in Unity Scope\n\tat com.databricks.unity.UnityCatalogClientHelper$.$anonfun$getToken$2(UnityCatalogClientHelper.scala:47)\n\tat scala.Option.getOrElse(Option.scala:189)\n\tat com.databricks.unity.UnityCatalogClientHelper$.getToken(UnityCatalogClientHelper.scala:47)\n\tat com.databricks.unity.volumes.UCVolumesFileSystemFactory.createFileSystem(UCVolumesFileSystemFactory.scala:41)\n\tat com.databricks.backend.daemon.data.client.DatabricksFileSystemV2Factory.createFileSystem(DatabricksFileSystemV2Factory.scala:163)\n\tat com.databricks.backend.daemon.data.filesystem.MountEntryResolver.getOrCreateFileSystem(MountEntryResolver.scala:97)\n\tat com.databricks.backend.daemon.data.filesystem.MountEntryResolver.createFileSystem(MountEntryResolver.scala:133)\n\t... 84 more\n"
       },
       "metadata": {
        "errorSummary": "<span class='ansi-red-fg'>ExecutionError</span>: An error occurred while calling o412.put.\n: com.databricks.backend.daemon.data.common.InvalidMountException: Error while using path /Volumes/main/default/my-volume for creating file system within mount at '/Volumes/main/default/my-volume'.\n\tat com.databricks.backend.daemon.data.common.InvalidMountException$.apply(DataMessages.scala:765)\n\tat com.databricks.backend.daemon.data.filesystem.MountEntryResolver.createFileSystem(MountEntryResolver.scala:154)\n\tat com.databricks.backend.daemon.data.client.DBFSOnUCFileSystemResolverImpl.createFileSystemByMountEntryResolver(DBFSOnUCFileSystemResolverImpl.scala:229)\n\tat com.databricks.backend.daemon.data.client.DBFSOnUCFileSystemResolverImpl.createFileSystem(DBFSOnUCFileSystemResolverImpl.scala:205)\n\tat com.databricks.backend.daemon.data.client.DBFSOnUCFileSystemResolverImpl.resolveAndGetFileSystem(DBFSOnUCFileSystemResolverImpl.scala:195)\n\tat com.databricks.backend.daemon.data.client.DBFSV2.resolveAndGetFileSystem(DatabricksFileSystemV2.scala:145)\n\tat com.databricks.backend.daemon.data.client.DatabricksFileSystemV2.resolve(DatabricksFileSystemV2.scala:773)\n\tat com.databricks.backend.daemon.data.client.DatabricksFileSystemV2.$anonfun$create$3(DatabricksFileSystemV2.scala:925)\n\tat com.databricks.s3a.S3AExceptionUtils$.convertAWSExceptionToJavaIOException(DatabricksStreamUtils.scala:66)\n\tat com.databricks.backend.daemon.data.client.DatabricksFileSystemV2.$anonfun$create$2(DatabricksFileSystemV2.scala:924)\n\tat com.databricks.backend.daemon.data.client.DatabricksFileSystemV2.$anonfun$withUserContextRecorded$2(DatabricksFileSystemV2.scala:1376)\n\tat com.databricks.logging.AttributionContextTracing.$anonfun$withAttributionContext$1(AttributionContextTracing.scala:48)\n\tat com.databricks.logging.AttributionContext$.$anonfun$withValue$1(AttributionContext.scala:276)\n\tat scala.util.DynamicVariable.withValue(DynamicVariable.scala:62)\n\tat com.databricks.logging.AttributionContext$.withValue(AttributionContext.scala:272)\n\tat com.databricks.logging.AttributionContextTracing.withAttributionContext(AttributionContextTracing.scala:46)\n\tat com.databricks.logging.AttributionContextTracing.withAttributionContext$(AttributionContextTracing.scala:43)\n\tat com.databricks.backend.daemon.data.client.DatabricksFileSystemV2.withAttributionContext(DatabricksFileSystemV2.scala:741)\n\tat com.databricks.logging.AttributionContextTracing.withAttributionTags(AttributionContextTracing.scala:95)\n\tat com.databricks.logging.AttributionContextTracing.withAttributionTags$(AttributionContextTracing.scala:76)\n\tat com.databricks.backend.daemon.data.client.DatabricksFileSystemV2.withAttributionTags(DatabricksFileSystemV2.scala:741)\n\tat com.databricks.backend.daemon.data.client.DatabricksFileSystemV2.withUserContextRecorded(DatabricksFileSystemV2.scala:1349)\n\tat com.databricks.backend.daemon.data.client.DatabricksFileSystemV2.$anonfun$create$1(DatabricksFileSystemV2.scala:923)\n\tat com.databricks.logging.UsageLogging.$anonfun$recordOperation$1(UsageLogging.scala:528)\n\tat com.databricks.logging.UsageLogging.executeThunkAndCaptureResultTags$1(UsageLogging.scala:633)\n\tat com.databricks.logging.UsageLogging.$anonfun$recordOperationWithResultTags$4(UsageLogging.scala:656)\n\tat com.databricks.logging.AttributionContextTracing.$anonfun$withAttributionContext$1(AttributionContextTracing.scala:48)\n\tat com.databricks.logging.AttributionContext$.$anonfun$withValue$1(AttributionContext.scala:276)\n\tat scala.util.DynamicVariable.withValue(DynamicVariable.scala:62)\n\tat com.databricks.logging.AttributionContext$.withValue(AttributionContext.scala:272)\n\tat com.databricks.logging.AttributionContextTracing.withAttributionContext(AttributionContextTracing.scala:46)\n\tat com.databricks.logging.AttributionContextTracing.withAttributionContext$(AttributionContextTracing.scala:43)\n\tat com.databricks.backend.daemon.data.client.DatabricksFileSystemV2.withAttributionContext(DatabricksFileSystemV2.scala:741)\n\tat com.databricks.logging.AttributionContextTracing.withAttributionTags(AttributionContextTracing.scala:95)\n\tat com.databricks.logging.AttributionContextTracing.withAttributionTags$(AttributionContextTracing.scala:76)\n\tat com.databricks.backend.daemon.data.client.DatabricksFileSystemV2.withAttributionTags(DatabricksFileSystemV2.scala:741)\n\tat com.databricks.logging.UsageLogging.recordOperationWithResultTags(UsageLogging.scala:628)\n\tat com.databricks.logging.UsageLogging.recordOperationWithResultTags$(UsageLogging.scala:537)\n\tat com.databricks.backend.daemon.data.client.DatabricksFileSystemV2.recordOperationWithResultTags(DatabricksFileSystemV2.scala:741)\n\tat com.databricks.logging.UsageLogging.recordOperation(UsageLogging.scala:529)\n\tat com.databricks.logging.UsageLogging.recordOperation$(UsageLogging.scala:495)\n\tat com.databricks.backend.daemon.data.client.DatabricksFileSystemV2.recordOperation(DatabricksFileSystemV2.scala:741)\n\tat com.databricks.backend.daemon.data.client.DatabricksFileSystemV2.create(DatabricksFileSystemV2.scala:920)\n\tat com.databricks.backend.daemon.data.client.DatabricksFileSystem.create(DatabricksFileSystem.scala:143)\n\tat com.databricks.common.filesystem.LokiFileSystem.create(LokiFileSystem.scala:299)\n\tat org.apache.hadoop.fs.FileSystem.create(FileSystem.java:1233)\n\tat org.apache.hadoop.fs.FileSystem.create(FileSystem.java:1210)\n\tat org.apache.hadoop.fs.FileSystem.create(FileSystem.java:1091)\n\tat com.databricks.backend.daemon.dbutils.FSUtils.$anonfun$put$3(DBUtilsCore.scala:536)\n\tat com.databricks.backend.daemon.dbutils.FSUtils.withFsSafetyCheck(DBUtilsCore.scala:152)\n\tat com.databricks.backend.daemon.dbutils.FSUtils.$anonfun$put$2(DBUtilsCore.scala:533)\n\tat com.databricks.backend.daemon.dbutils.FSUtils.checkPermission(DBUtilsCore.scala:147)\n\tat com.databricks.backend.daemon.dbutils.FSUtils.$anonfun$put$1(DBUtilsCore.scala:533)\n\tat com.databricks.logging.UsageLogging.$anonfun$recordOperation$1(UsageLogging.scala:528)\n\tat com.databricks.logging.UsageLogging.executeThunkAndCaptureResultTags$1(UsageLogging.scala:633)\n\tat com.databricks.logging.UsageLogging.$anonfun$recordOperationWithResultTags$4(UsageLogging.scala:656)\n\tat com.databricks.logging.AttributionContextTracing.$anonfun$withAttributionContext$1(AttributionContextTracing.scala:48)\n\tat com.databricks.logging.AttributionContext$.$anonfun$withValue$1(AttributionContext.scala:276)\n\tat scala.util.DynamicVariable.withValue(DynamicVariable.scala:62)\n\tat com.databricks.logging.AttributionContext$.withValue(AttributionContext.scala:272)\n\tat com.databricks.logging.AttributionContextTracing.withAttributionContext(AttributionContextTracing.scala:46)\n\tat com.databricks.logging.AttributionContextTracing.withAttributionContext$(AttributionContextTracing.scala:43)\n\tat com.databricks.backend.daemon.dbutils.FSUtils.withAttributionContext(DBUtilsCore.scala:74)\n\tat com.databricks.logging.AttributionContextTracing.withAttributionTags(AttributionContextTracing.scala:95)\n\tat com.databricks.logging.AttributionContextTracing.withAttributionTags$(AttributionContextTracing.scala:76)\n\tat com.databricks.backend.daemon.dbutils.FSUtils.withAttributionTags(DBUtilsCore.scala:74)\n\tat com.databricks.logging.UsageLogging.recordOperationWithResultTags(UsageLogging.scala:628)\n\tat com.databricks.logging.UsageLogging.recordOperationWithResultTags$(UsageLogging.scala:537)\n\tat com.databricks.backend.daemon.dbutils.FSUtils.recordOperationWithResultTags(DBUtilsCore.scala:74)\n\tat com.databricks.logging.UsageLogging.recordOperation(UsageLogging.scala:529)\n\tat com.databricks.logging.UsageLogging.recordOperation$(UsageLogging.scala:495)\n\tat com.databricks.backend.daemon.dbutils.FSUtils.recordOperation(DBUtilsCore.scala:74)\n\tat com.databricks.backend.daemon.dbutils.FSUtils.recordDbutilsFsOp(DBUtilsCore.scala:138)\n\tat com.databricks.backend.daemon.dbutils.FSUtils.put(DBUtilsCore.scala:532)\n\tat sun.reflect.NativeMethodAccessorImpl.invoke0(Native Method)\n\tat sun.reflect.NativeMethodAccessorImpl.invoke(NativeMethodAccessorImpl.java:62)\n\tat sun.reflect.DelegatingMethodAccessorImpl.invoke(DelegatingMethodAccessorImpl.java:43)\n\tat java.lang.reflect.Method.invoke(Method.java:498)\n\tat py4j.reflection.MethodInvoker.invoke(MethodInvoker.java:244)\n\tat py4j.reflection.ReflectionEngine.invoke(ReflectionEngine.java:397)\n\tat py4j.Gateway.invoke(Gateway.java:306)\n\tat py4j.commands.AbstractCommand.invokeMethod(AbstractCommand.java:132)\n\tat py4j.commands.CallCommand.execute(CallCommand.java:79)\n\tat py4j.ClientServerConnection.waitForCommands(ClientServerConnection.java:199)\n\tat py4j.ClientServerConnection.run(ClientServerConnection.java:119)\n\tat java.lang.Thread.run(Thread.java:750)\nCaused by: java.lang.IllegalStateException: No Unity API token found in Unity Scope\n\tat com.databricks.unity.UnityCatalogClientHelper$.$anonfun$getToken$2(UnityCatalogClientHelper.scala:47)\n\tat scala.Option.getOrElse(Option.scala:189)\n\tat com.databricks.unity.UnityCatalogClientHelper$.getToken(UnityCatalogClientHelper.scala:47)\n\tat com.databricks.unity.volumes.UCVolumesFileSystemFactory.createFileSystem(UCVolumesFileSystemFactory.scala:41)\n\tat com.databricks.backend.daemon.data.client.DatabricksFileSystemV2Factory.createFileSystem(DatabricksFileSystemV2Factory.scala:163)\n\tat com.databricks.backend.daemon.data.filesystem.MountEntryResolver.getOrCreateFileSystem(MountEntryResolver.scala:97)\n\tat com.databricks.backend.daemon.data.filesystem.MountEntryResolver.createFileSystem(MountEntryResolver.scala:133)\n\t... 84 more\n"
       },
       "removedWidgets": [],
       "sqlProps": null,
       "stackFrames": [
        "\u001B[0;31m---------------------------------------------------------------------------\u001B[0m",
        "\u001B[0;31mExecutionError\u001B[0m                            Traceback (most recent call last)",
        "File \u001B[0;32m<command-3750198211146947>, line 5\u001B[0m\n\u001B[1;32m      3\u001B[0m response \u001B[38;5;241m=\u001B[39m requests\u001B[38;5;241m.\u001B[39mget(\u001B[38;5;124m'\u001B[39m\u001B[38;5;124mhttps://health.data.ny.gov/api/views/jxy9-yhdk/rows.csv\u001B[39m\u001B[38;5;124m'\u001B[39m)\n\u001B[1;32m      4\u001B[0m csvfile \u001B[38;5;241m=\u001B[39m response\u001B[38;5;241m.\u001B[39mcontent\u001B[38;5;241m.\u001B[39mdecode(\u001B[38;5;124m'\u001B[39m\u001B[38;5;124mutf-8\u001B[39m\u001B[38;5;124m'\u001B[39m)\n\u001B[0;32m----> 5\u001B[0m dbutils\u001B[38;5;241m.\u001B[39mfs\u001B[38;5;241m.\u001B[39mput(\u001B[38;5;124m\"\u001B[39m\u001B[38;5;124m/Volumes/main/default/my-volume/babynames.csv\u001B[39m\u001B[38;5;124m\"\u001B[39m, csvfile, \u001B[38;5;28;01mTrue\u001B[39;00m)\n",
        "File \u001B[0;32m/databricks/python_shell/lib/dbruntime/dbutils.py:158\u001B[0m, in \u001B[0;36mprettify_exception_message.<locals>.f_with_exception_handling\u001B[0;34m(*args, **kwargs)\u001B[0m\n\u001B[1;32m    156\u001B[0m exc\u001B[38;5;241m.\u001B[39m__context__ \u001B[38;5;241m=\u001B[39m \u001B[38;5;28;01mNone\u001B[39;00m\n\u001B[1;32m    157\u001B[0m exc\u001B[38;5;241m.\u001B[39m__cause__ \u001B[38;5;241m=\u001B[39m \u001B[38;5;28;01mNone\u001B[39;00m\n\u001B[0;32m--> 158\u001B[0m \u001B[38;5;28;01mraise\u001B[39;00m exc\n",
        "\u001B[0;31mExecutionError\u001B[0m: An error occurred while calling o412.put.\n: com.databricks.backend.daemon.data.common.InvalidMountException: Error while using path /Volumes/main/default/my-volume for creating file system within mount at '/Volumes/main/default/my-volume'.\n\tat com.databricks.backend.daemon.data.common.InvalidMountException$.apply(DataMessages.scala:765)\n\tat com.databricks.backend.daemon.data.filesystem.MountEntryResolver.createFileSystem(MountEntryResolver.scala:154)\n\tat com.databricks.backend.daemon.data.client.DBFSOnUCFileSystemResolverImpl.createFileSystemByMountEntryResolver(DBFSOnUCFileSystemResolverImpl.scala:229)\n\tat com.databricks.backend.daemon.data.client.DBFSOnUCFileSystemResolverImpl.createFileSystem(DBFSOnUCFileSystemResolverImpl.scala:205)\n\tat com.databricks.backend.daemon.data.client.DBFSOnUCFileSystemResolverImpl.resolveAndGetFileSystem(DBFSOnUCFileSystemResolverImpl.scala:195)\n\tat com.databricks.backend.daemon.data.client.DBFSV2.resolveAndGetFileSystem(DatabricksFileSystemV2.scala:145)\n\tat com.databricks.backend.daemon.data.client.DatabricksFileSystemV2.resolve(DatabricksFileSystemV2.scala:773)\n\tat com.databricks.backend.daemon.data.client.DatabricksFileSystemV2.$anonfun$create$3(DatabricksFileSystemV2.scala:925)\n\tat com.databricks.s3a.S3AExceptionUtils$.convertAWSExceptionToJavaIOException(DatabricksStreamUtils.scala:66)\n\tat com.databricks.backend.daemon.data.client.DatabricksFileSystemV2.$anonfun$create$2(DatabricksFileSystemV2.scala:924)\n\tat com.databricks.backend.daemon.data.client.DatabricksFileSystemV2.$anonfun$withUserContextRecorded$2(DatabricksFileSystemV2.scala:1376)\n\tat com.databricks.logging.AttributionContextTracing.$anonfun$withAttributionContext$1(AttributionContextTracing.scala:48)\n\tat com.databricks.logging.AttributionContext$.$anonfun$withValue$1(AttributionContext.scala:276)\n\tat scala.util.DynamicVariable.withValue(DynamicVariable.scala:62)\n\tat com.databricks.logging.AttributionContext$.withValue(AttributionContext.scala:272)\n\tat com.databricks.logging.AttributionContextTracing.withAttributionContext(AttributionContextTracing.scala:46)\n\tat com.databricks.logging.AttributionContextTracing.withAttributionContext$(AttributionContextTracing.scala:43)\n\tat com.databricks.backend.daemon.data.client.DatabricksFileSystemV2.withAttributionContext(DatabricksFileSystemV2.scala:741)\n\tat com.databricks.logging.AttributionContextTracing.withAttributionTags(AttributionContextTracing.scala:95)\n\tat com.databricks.logging.AttributionContextTracing.withAttributionTags$(AttributionContextTracing.scala:76)\n\tat com.databricks.backend.daemon.data.client.DatabricksFileSystemV2.withAttributionTags(DatabricksFileSystemV2.scala:741)\n\tat com.databricks.backend.daemon.data.client.DatabricksFileSystemV2.withUserContextRecorded(DatabricksFileSystemV2.scala:1349)\n\tat com.databricks.backend.daemon.data.client.DatabricksFileSystemV2.$anonfun$create$1(DatabricksFileSystemV2.scala:923)\n\tat com.databricks.logging.UsageLogging.$anonfun$recordOperation$1(UsageLogging.scala:528)\n\tat com.databricks.logging.UsageLogging.executeThunkAndCaptureResultTags$1(UsageLogging.scala:633)\n\tat com.databricks.logging.UsageLogging.$anonfun$recordOperationWithResultTags$4(UsageLogging.scala:656)\n\tat com.databricks.logging.AttributionContextTracing.$anonfun$withAttributionContext$1(AttributionContextTracing.scala:48)\n\tat com.databricks.logging.AttributionContext$.$anonfun$withValue$1(AttributionContext.scala:276)\n\tat scala.util.DynamicVariable.withValue(DynamicVariable.scala:62)\n\tat com.databricks.logging.AttributionContext$.withValue(AttributionContext.scala:272)\n\tat com.databricks.logging.AttributionContextTracing.withAttributionContext(AttributionContextTracing.scala:46)\n\tat com.databricks.logging.AttributionContextTracing.withAttributionContext$(AttributionContextTracing.scala:43)\n\tat com.databricks.backend.daemon.data.client.DatabricksFileSystemV2.withAttributionContext(DatabricksFileSystemV2.scala:741)\n\tat com.databricks.logging.AttributionContextTracing.withAttributionTags(AttributionContextTracing.scala:95)\n\tat com.databricks.logging.AttributionContextTracing.withAttributionTags$(AttributionContextTracing.scala:76)\n\tat com.databricks.backend.daemon.data.client.DatabricksFileSystemV2.withAttributionTags(DatabricksFileSystemV2.scala:741)\n\tat com.databricks.logging.UsageLogging.recordOperationWithResultTags(UsageLogging.scala:628)\n\tat com.databricks.logging.UsageLogging.recordOperationWithResultTags$(UsageLogging.scala:537)\n\tat com.databricks.backend.daemon.data.client.DatabricksFileSystemV2.recordOperationWithResultTags(DatabricksFileSystemV2.scala:741)\n\tat com.databricks.logging.UsageLogging.recordOperation(UsageLogging.scala:529)\n\tat com.databricks.logging.UsageLogging.recordOperation$(UsageLogging.scala:495)\n\tat com.databricks.backend.daemon.data.client.DatabricksFileSystemV2.recordOperation(DatabricksFileSystemV2.scala:741)\n\tat com.databricks.backend.daemon.data.client.DatabricksFileSystemV2.create(DatabricksFileSystemV2.scala:920)\n\tat com.databricks.backend.daemon.data.client.DatabricksFileSystem.create(DatabricksFileSystem.scala:143)\n\tat com.databricks.common.filesystem.LokiFileSystem.create(LokiFileSystem.scala:299)\n\tat org.apache.hadoop.fs.FileSystem.create(FileSystem.java:1233)\n\tat org.apache.hadoop.fs.FileSystem.create(FileSystem.java:1210)\n\tat org.apache.hadoop.fs.FileSystem.create(FileSystem.java:1091)\n\tat com.databricks.backend.daemon.dbutils.FSUtils.$anonfun$put$3(DBUtilsCore.scala:536)\n\tat com.databricks.backend.daemon.dbutils.FSUtils.withFsSafetyCheck(DBUtilsCore.scala:152)\n\tat com.databricks.backend.daemon.dbutils.FSUtils.$anonfun$put$2(DBUtilsCore.scala:533)\n\tat com.databricks.backend.daemon.dbutils.FSUtils.checkPermission(DBUtilsCore.scala:147)\n\tat com.databricks.backend.daemon.dbutils.FSUtils.$anonfun$put$1(DBUtilsCore.scala:533)\n\tat com.databricks.logging.UsageLogging.$anonfun$recordOperation$1(UsageLogging.scala:528)\n\tat com.databricks.logging.UsageLogging.executeThunkAndCaptureResultTags$1(UsageLogging.scala:633)\n\tat com.databricks.logging.UsageLogging.$anonfun$recordOperationWithResultTags$4(UsageLogging.scala:656)\n\tat com.databricks.logging.AttributionContextTracing.$anonfun$withAttributionContext$1(AttributionContextTracing.scala:48)\n\tat com.databricks.logging.AttributionContext$.$anonfun$withValue$1(AttributionContext.scala:276)\n\tat scala.util.DynamicVariable.withValue(DynamicVariable.scala:62)\n\tat com.databricks.logging.AttributionContext$.withValue(AttributionContext.scala:272)\n\tat com.databricks.logging.AttributionContextTracing.withAttributionContext(AttributionContextTracing.scala:46)\n\tat com.databricks.logging.AttributionContextTracing.withAttributionContext$(AttributionContextTracing.scala:43)\n\tat com.databricks.backend.daemon.dbutils.FSUtils.withAttributionContext(DBUtilsCore.scala:74)\n\tat com.databricks.logging.AttributionContextTracing.withAttributionTags(AttributionContextTracing.scala:95)\n\tat com.databricks.logging.AttributionContextTracing.withAttributionTags$(AttributionContextTracing.scala:76)\n\tat com.databricks.backend.daemon.dbutils.FSUtils.withAttributionTags(DBUtilsCore.scala:74)\n\tat com.databricks.logging.UsageLogging.recordOperationWithResultTags(UsageLogging.scala:628)\n\tat com.databricks.logging.UsageLogging.recordOperationWithResultTags$(UsageLogging.scala:537)\n\tat com.databricks.backend.daemon.dbutils.FSUtils.recordOperationWithResultTags(DBUtilsCore.scala:74)\n\tat com.databricks.logging.UsageLogging.recordOperation(UsageLogging.scala:529)\n\tat com.databricks.logging.UsageLogging.recordOperation$(UsageLogging.scala:495)\n\tat com.databricks.backend.daemon.dbutils.FSUtils.recordOperation(DBUtilsCore.scala:74)\n\tat com.databricks.backend.daemon.dbutils.FSUtils.recordDbutilsFsOp(DBUtilsCore.scala:138)\n\tat com.databricks.backend.daemon.dbutils.FSUtils.put(DBUtilsCore.scala:532)\n\tat sun.reflect.NativeMethodAccessorImpl.invoke0(Native Method)\n\tat sun.reflect.NativeMethodAccessorImpl.invoke(NativeMethodAccessorImpl.java:62)\n\tat sun.reflect.DelegatingMethodAccessorImpl.invoke(DelegatingMethodAccessorImpl.java:43)\n\tat java.lang.reflect.Method.invoke(Method.java:498)\n\tat py4j.reflection.MethodInvoker.invoke(MethodInvoker.java:244)\n\tat py4j.reflection.ReflectionEngine.invoke(ReflectionEngine.java:397)\n\tat py4j.Gateway.invoke(Gateway.java:306)\n\tat py4j.commands.AbstractCommand.invokeMethod(AbstractCommand.java:132)\n\tat py4j.commands.CallCommand.execute(CallCommand.java:79)\n\tat py4j.ClientServerConnection.waitForCommands(ClientServerConnection.java:199)\n\tat py4j.ClientServerConnection.run(ClientServerConnection.java:119)\n\tat java.lang.Thread.run(Thread.java:750)\nCaused by: java.lang.IllegalStateException: No Unity API token found in Unity Scope\n\tat com.databricks.unity.UnityCatalogClientHelper$.$anonfun$getToken$2(UnityCatalogClientHelper.scala:47)\n\tat scala.Option.getOrElse(Option.scala:189)\n\tat com.databricks.unity.UnityCatalogClientHelper$.getToken(UnityCatalogClientHelper.scala:47)\n\tat com.databricks.unity.volumes.UCVolumesFileSystemFactory.createFileSystem(UCVolumesFileSystemFactory.scala:41)\n\tat com.databricks.backend.daemon.data.client.DatabricksFileSystemV2Factory.createFileSystem(DatabricksFileSystemV2Factory.scala:163)\n\tat com.databricks.backend.daemon.data.filesystem.MountEntryResolver.getOrCreateFileSystem(MountEntryResolver.scala:97)\n\tat com.databricks.backend.daemon.data.filesystem.MountEntryResolver.createFileSystem(MountEntryResolver.scala:133)\n\t... 84 more\n"
       ],
       "type": "baseError"
      }
     },
     "output_type": "display_data"
    }
   ],
   "source": [
    "import requests\n",
    "\n",
    "response = requests.get('https://health.data.ny.gov/api/views/jxy9-yhdk/rows.csv')\n",
    "csvfile = response.content.decode('utf-8')\n",
    "dbutils.fs.put(\"/Volumes/main/default/my-volume/babynames.csv\", csvfile, True)"
   ]
  },
  {
   "cell_type": "code",
   "execution_count": 0,
   "metadata": {
    "application/vnd.databricks.v1+cell": {
     "cellMetadata": {},
     "inputWidgets": {},
     "nuid": "76e6fdec-5085-44f8-af8a-ebed4de65b63",
     "showTitle": false,
     "tableResultSettingsMap": {},
     "title": ""
    }
   },
   "outputs": [],
   "source": [
    "babynames = spark.read.format(\"csv\").option(\"header\", \"true\").option(\"inferSchema\", \"true\").load(\"/Volumes/main/default/my-volume/babynames.csv\")\n",
    "babynames.createOrReplaceTempView(\"babynames_table\")\n",
    "years = spark.sql(\"select distinct(Year) from babynames_table\").toPandas()['Year'].tolist()\n",
    "years.sort()\n",
    "dbutils.widgets.dropdown(\"year\", \"2014\", [str(x) for x in years])\n",
    "display(babynames.filter(babynames.Year == dbutils.widgets.get(\"year\")))"
   ]
  },
  {
   "cell_type": "markdown",
   "metadata": {
    "application/vnd.databricks.v1+cell": {
     "cellMetadata": {},
     "inputWidgets": {},
     "nuid": "ae8b11b9-f4af-4945-90ce-354793f0889f",
     "showTitle": false,
     "tableResultSettingsMap": {},
     "title": ""
    }
   },
   "source": [
    "Reading and Writing from and to Azure Data Lake Gen2"
   ]
  },
  {
   "cell_type": "markdown",
   "metadata": {
    "application/vnd.databricks.v1+cell": {
     "cellMetadata": {},
     "inputWidgets": {},
     "nuid": "fa54063b-6e33-4d21-89a5-befeaf8d9bed",
     "showTitle": false,
     "tableResultSettingsMap": {},
     "title": ""
    }
   },
   "source": [
    "Unity Catalog"
   ]
  },
  {
   "cell_type": "code",
   "execution_count": 0,
   "metadata": {
    "application/vnd.databricks.v1+cell": {
     "cellMetadata": {},
     "inputWidgets": {},
     "nuid": "cb5d1a65-a0f4-4c3e-8cff-752b9f092c5a",
     "showTitle": false,
     "tableResultSettingsMap": {},
     "title": ""
    }
   },
   "outputs": [],
   "source": []
  },
  {
   "cell_type": "code",
   "execution_count": 0,
   "metadata": {
    "application/vnd.databricks.v1+cell": {
     "cellMetadata": {},
     "inputWidgets": {},
     "nuid": "c5a540d1-7070-4cdb-ad78-c78369c08acc",
     "showTitle": false,
     "tableResultSettingsMap": {},
     "title": ""
    }
   },
   "outputs": [],
   "source": []
  }
 ],
 "metadata": {
  "application/vnd.databricks.v1+notebook": {
   "computePreferences": null,
   "dashboards": [],
   "environmentMetadata": {
    "base_environment": "",
    "environment_version": "2"
   },
   "language": "python",
   "notebookMetadata": {
    "mostRecentlyExecutedCommandWithImplicitDF": {
     "commandId": 3777225523693153,
     "dataframes": [
      "_sqldf"
     ]
    },
    "pythonIndentUnit": 4
   },
   "notebookName": "exp0_Notebook_demo",
   "widgets": {}
  },
  "language_info": {
   "name": "python"
  }
 },
 "nbformat": 4,
 "nbformat_minor": 0
}